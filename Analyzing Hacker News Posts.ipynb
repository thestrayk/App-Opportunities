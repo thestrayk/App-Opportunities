{
 "cells": [
  {
   "cell_type": "markdown",
   "metadata": {},
   "source": [
    "# Analyzing Hacker News Posts\n",
    "\n",
    "Questions to explore: \n",
    "* Do Ask HN or Show HN receive more comments on average?\n",
    "* Do posts created at a certain time receive more comments on average?"
   ]
  },
  {
   "cell_type": "markdown",
   "metadata": {},
   "source": [
    "### Read in the data and print the first five rows."
   ]
  },
  {
   "cell_type": "code",
   "execution_count": 3,
   "metadata": {},
   "outputs": [],
   "source": [
    "from csv import reader\n",
    "opened_file = open('hacker_news.csv')\n",
    "read_file = reader(opened_file)\n",
    "hn = list(read_file)"
   ]
  },
  {
   "cell_type": "code",
   "execution_count": 36,
   "metadata": {},
   "outputs": [
    {
     "name": "stdout",
     "output_type": "stream",
     "text": [
      "['12224879', 'Interactive Dynamic Video', 'http://www.interactivedynamicvideo.com/', '386', '52', 'ne0phyte', '8/4/2016 11:52'] \n",
      "\n",
      "['10975351', 'How to Use Open Source and Shut the Fuck Up at the Same Time', 'http://hueniverse.com/2016/01/26/how-to-use-open-source-and-shut-the-fuck-up-at-the-same-time/', '39', '10', 'josep2', '1/26/2016 19:30'] \n",
      "\n",
      "['11964716', \"Florida DJs May Face Felony for April Fools' Water Joke\", 'http://www.thewire.com/entertainment/2013/04/florida-djs-april-fools-water-joke/63798/', '2', '1', 'vezycash', '6/23/2016 22:20'] \n",
      "\n",
      "['11919867', 'Technology ventures: From Idea to Enterprise', 'https://www.amazon.com/Technology-Ventures-Enterprise-Thomas-Byers/dp/0073523429', '3', '1', 'hswarna', '6/17/2016 0:01'] \n",
      "\n",
      "['10301696', 'Note by Note: The Making of Steinway L1037 (2007)', 'http://www.nytimes.com/2007/11/07/movies/07stein.html?_r=0', '8', '2', 'walterbell', '9/30/2015 4:12'] \n",
      "\n"
     ]
    }
   ],
   "source": [
    "for row in hn[0:5]:\n",
    "    print(row, '\\n')"
   ]
  },
  {
   "cell_type": "markdown",
   "metadata": {},
   "source": [
    "### Extract the header row from the dataset."
   ]
  },
  {
   "cell_type": "code",
   "execution_count": null,
   "metadata": {},
   "outputs": [],
   "source": [
    "headers = hn[0]\n",
    "hn = hn[1:]"
   ]
  },
  {
   "cell_type": "code",
   "execution_count": 27,
   "metadata": {},
   "outputs": [
    {
     "name": "stdout",
     "output_type": "stream",
     "text": [
      "Header:\n",
      "['id', 'title', 'url', 'num_points', 'num_comments', 'author', 'created_at'] \n",
      "\n",
      "Data:\n",
      "['12224879', 'Interactive Dynamic Video', 'http://www.interactivedynamicvideo.com/', '386', '52', 'ne0phyte', '8/4/2016 11:52'] \n",
      "\n",
      "['10975351', 'How to Use Open Source and Shut the Fuck Up at the Same Time', 'http://hueniverse.com/2016/01/26/how-to-use-open-source-and-shut-the-fuck-up-at-the-same-time/', '39', '10', 'josep2', '1/26/2016 19:30'] \n",
      "\n",
      "['11964716', \"Florida DJs May Face Felony for April Fools' Water Joke\", 'http://www.thewire.com/entertainment/2013/04/florida-djs-april-fools-water-joke/63798/', '2', '1', 'vezycash', '6/23/2016 22:20'] \n",
      "\n",
      "['11919867', 'Technology ventures: From Idea to Enterprise', 'https://www.amazon.com/Technology-Ventures-Enterprise-Thomas-Byers/dp/0073523429', '3', '1', 'hswarna', '6/17/2016 0:01'] \n",
      "\n",
      "['10301696', 'Note by Note: The Making of Steinway L1037 (2007)', 'http://www.nytimes.com/2007/11/07/movies/07stein.html?_r=0', '8', '2', 'walterbell', '9/30/2015 4:12'] \n",
      "\n"
     ]
    }
   ],
   "source": [
    "print('Header:')\n",
    "print(headers, '\\n')\n",
    "print('Data:')\n",
    "for row in hn[0:5]:\n",
    "    print(row, '\\n')\n",
    "    \n",
    "hn_index = \"[ id=0, title=1, url=2, num_points=3, num_comments=4, author=5, created_at=6 ]\""
   ]
  },
  {
   "cell_type": "markdown",
   "metadata": {},
   "source": [
    "### Separate \"Ask HN\" posts, \"Show HN\" posts, and other posts."
   ]
  },
  {
   "cell_type": "code",
   "execution_count": null,
   "metadata": {},
   "outputs": [],
   "source": [
    "ask_posts = []\n",
    "show_posts = []\n",
    "other_posts = []\n",
    "\n",
    "for row in hn:\n",
    "    title = row[1]\n",
    "    title = title.lower()\n",
    "    \n",
    "    if title.startswith('ask hn'):\n",
    "        ask_posts.append(row)\n",
    "    elif title.startswith('show hn'):\n",
    "        show_posts.append(row)\n",
    "    else:\n",
    "        other_posts.append(row)"
   ]
  },
  {
   "cell_type": "code",
   "execution_count": 18,
   "metadata": {},
   "outputs": [
    {
     "name": "stdout",
     "output_type": "stream",
     "text": [
      "['12296411', 'Ask HN: How to improve my personal website?', '', '2', '6', 'ahmedbaracat', '8/16/2016 9:55'] \n",
      "\n",
      "['10610020', 'Ask HN: Am I the only one outraged by Twitter shutting down share counts?', '', '28', '29', 'tkfx', '11/22/2015 13:43'] \n",
      "\n",
      "['10627194', 'Show HN: Wio Link  ESP8266 Based Web of Things Hardware Development Platform', 'https://iot.seeed.cc', '26', '22', 'kfihihc', '11/25/2015 14:03'] \n",
      "\n",
      "['10646440', 'Show HN: Something pointless I made', 'http://dn.ht/picklecat/', '747', '102', 'dhotson', '11/29/2015 22:46'] \n",
      "\n",
      "['12224879', 'Interactive Dynamic Video', 'http://www.interactivedynamicvideo.com/', '386', '52', 'ne0phyte', '8/4/2016 11:52'] \n",
      "\n",
      "['10975351', 'How to Use Open Source and Shut the Fuck Up at the Same Time', 'http://hueniverse.com/2016/01/26/how-to-use-open-source-and-shut-the-fuck-up-at-the-same-time/', '39', '10', 'josep2', '1/26/2016 19:30'] \n",
      "\n"
     ]
    }
   ],
   "source": [
    "for row in ask_posts[0:2]: \n",
    "    print(row,'\\n')\n",
    "for row in show_posts[0:2]: \n",
    "    print(row,'\\n')\n",
    "for row in other_posts[0:2]: \n",
    "    print(row,'\\n')"
   ]
  },
  {
   "cell_type": "markdown",
   "metadata": {},
   "source": [
    "### Determine if \"Ask HN\" posts or \"Show HN\" posts get more comments on average."
   ]
  },
  {
   "cell_type": "code",
   "execution_count": 49,
   "metadata": {},
   "outputs": [
    {
     "name": "stdout",
     "output_type": "stream",
     "text": [
      "Average comments per \"ask hn\" post: 14.0\n",
      "Average comments per \"show hn\" post: 10.3\n",
      "Average comments per other posts: 26.9\n"
     ]
    }
   ],
   "source": [
    "# Find avg comments per \"ask hn\" post\n",
    "total_ask_com = 0\n",
    "for row in ask_posts:\n",
    "    num_comments = int(row[4])\n",
    "    total_ask_com += num_comments\n",
    "    \n",
    "avg_ask_comments = round(total_ask_com / len(ask_posts), 1)\n",
    "\n",
    "# Find avg comments per \"show hn\" post\n",
    "total_show_com = 0\n",
    "for row in show_posts:\n",
    "    num_comments = int(row[4])\n",
    "    total_show_com += num_comments\n",
    "    \n",
    "avg_show_comments = round(total_show_com / len(show_posts),1)\n",
    "\n",
    "# Find avg comments on all other posts\n",
    "total_other_com = 0\n",
    "for row in other_posts:\n",
    "    num_comments = int(row[4])\n",
    "    total_other_com += num_comments\n",
    "    \n",
    "avg_other_comments = round(total_other_com / len(other_posts),1)\n",
    "\n",
    "#Print averages\n",
    "print('Average comments per \"ask hn\" post:', avg_ask_comments)\n",
    "print('Average comments per \"show hn\" post:', avg_show_comments)\n",
    "print('Average comments per other posts:', avg_other_comments)"
   ]
  },
  {
   "cell_type": "markdown",
   "metadata": {},
   "source": [
    "On average, ask posts tend to receive ~4 more comments per post. Other posts actually receive the most of all though."
   ]
  },
  {
   "cell_type": "markdown",
   "metadata": {},
   "source": [
    "### Determine what hours during the day \"Ask HN\" posts receive the most comments."
   ]
  },
  {
   "cell_type": "code",
   "execution_count": 51,
   "metadata": {},
   "outputs": [
    {
     "name": "stdout",
     "output_type": "stream",
     "text": [
      "['id', 'title', 'url', 'num_points', 'num_comments', 'author', 'created_at']\n",
      "['12224879', 'Interactive Dynamic Video', 'http://www.interactivedynamicvideo.com/', '386', '52', 'ne0phyte', '8/4/2016 11:52']\n",
      "\n",
      "\n",
      "0 : id\n",
      "1 : title\n",
      "2 : url\n",
      "3 : num_points\n",
      "4 : num_comments\n",
      "5 : author\n",
      "6 : created_at\n",
      "\n",
      "\n",
      "0 : 12224879\n",
      "1 : Interactive Dynamic Video\n",
      "2 : http://www.interactivedynamicvideo.com/\n",
      "3 : 386\n",
      "4 : 52\n",
      "5 : ne0phyte\n",
      "6 : 8/4/2016 11:52\n"
     ]
    }
   ],
   "source": [
    "### INDEX GUIDE ###\n",
    "\n",
    "print(headers)\n",
    "print(sample_row)\n",
    "sample_row = hn[0]\n",
    "\n",
    "print('\\n')\n",
    "\n",
    "i = 0\n",
    "for value in headers:\n",
    "    print(i, ':', value)\n",
    "    i += 1 \n",
    "\n",
    "print('\\n')\n",
    "    \n",
    "i = 0\n",
    "for value in sample_row:\n",
    "    print(i, ':', value)\n",
    "    i += 1\n",
    "\n",
    "# ask_posts = []\n",
    "# show_posts = []\n",
    "# other_posts = []"
   ]
  },
  {
   "cell_type": "code",
   "execution_count": 50,
   "metadata": {},
   "outputs": [],
   "source": [
    "import datetime as dt"
   ]
  },
  {
   "cell_type": "code",
   "execution_count": 52,
   "metadata": {},
   "outputs": [],
   "source": [
    "## Add creation date and number of comments to a list of lists\n",
    "result_list = []\n",
    "for row in ask_posts:\n",
    "    created_at = row[6]\n",
    "    num_comments = int(row[4])\n",
    "    result_list.append([created_at, num_comments])"
   ]
  },
  {
   "cell_type": "code",
   "execution_count": 67,
   "metadata": {},
   "outputs": [],
   "source": [
    "## Find total numbers of posts and comments each hour\n",
    "\n",
    "counts_by_hour = {}\n",
    "comments_by_hour = {}\n",
    "\n",
    "for post in result_list:\n",
    "    date = dt.datetime.strptime(post[0],'%m/%d/%Y %H:%M') # Convert date to datetime object\n",
    "    time = dt.datetime.strftime(date, '%H') # Extract hour\n",
    "    \n",
    "    # Count num of posts each hour\n",
    "    if time in counts_by_hour:\n",
    "        counts_by_hour[time] += 1\n",
    "    else:\n",
    "        counts_by_hour[time] = 1\n",
    "        \n",
    "    # Count num of comments each hour\n",
    "    if time in comments_by_hour:\n",
    "        comments_by_hour[time] += post[1]\n",
    "    else:\n",
    "        comments_by_hour[time] = post[1]"
   ]
  },
  {
   "cell_type": "code",
   "execution_count": 105,
   "metadata": {},
   "outputs": [],
   "source": [
    "## Calculate the average number of comments during each hour\n",
    "avg_by_hour = []\n",
    "\n",
    "for hour in counts_by_hour:\n",
    "    avg = comments_by_hour[hour] / counts_by_hour[hour]\n",
    "    avg_by_hour.append([hour, avg])"
   ]
  },
  {
   "cell_type": "code",
   "execution_count": 106,
   "metadata": {},
   "outputs": [
    {
     "name": "stdout",
     "output_type": "stream",
     "text": [
      "Sorted by Hour:\n",
      "['00', 8.127272727272727]\n",
      "['01', 11.383333333333333]\n",
      "['02', 23.810344827586206]\n",
      "['03', 7.796296296296297]\n",
      "['04', 7.170212765957447]\n",
      "['05', 10.08695652173913]\n",
      "['06', 9.022727272727273]\n",
      "['07', 7.852941176470588]\n",
      "['08', 10.25]\n",
      "['09', 5.5777777777777775]\n",
      "['10', 13.440677966101696]\n",
      "['11', 11.051724137931034]\n",
      "['12', 9.41095890410959]\n",
      "['13', 14.741176470588234]\n",
      "['14', 13.233644859813085]\n",
      "['15', 38.5948275862069]\n",
      "['16', 16.796296296296298]\n",
      "['17', 11.46]\n",
      "['18', 13.20183486238532]\n",
      "['19', 10.8]\n",
      "['20', 21.525]\n",
      "['21', 16.009174311926607]\n",
      "['22', 6.746478873239437]\n",
      "['23', 7.985294117647059]\n"
     ]
    }
   ],
   "source": [
    "## Print averages sorted by hour\n",
    "avg_by_hour.sort()\n",
    "print('Sorted by Hour:')\n",
    "for avg in avg_by_hour:\n",
    "    print(avg)"
   ]
  },
  {
   "cell_type": "code",
   "execution_count": 107,
   "metadata": {},
   "outputs": [
    {
     "name": "stdout",
     "output_type": "stream",
     "text": [
      "Sorted by Highest Average\n",
      "[38.5948275862069, '15']\n",
      "[23.810344827586206, '02']\n",
      "[21.525, '20']\n",
      "[16.796296296296298, '16']\n",
      "[16.009174311926607, '21']\n",
      "[14.741176470588234, '13']\n",
      "[13.440677966101696, '10']\n",
      "[13.233644859813085, '14']\n",
      "[13.20183486238532, '18']\n",
      "[11.46, '17']\n",
      "[11.383333333333333, '01']\n",
      "[11.051724137931034, '11']\n",
      "[10.8, '19']\n",
      "[10.25, '08']\n",
      "[10.08695652173913, '05']\n",
      "[9.41095890410959, '12']\n",
      "[9.022727272727273, '06']\n",
      "[8.127272727272727, '00']\n",
      "[7.985294117647059, '23']\n",
      "[7.852941176470588, '07']\n",
      "[7.796296296296297, '03']\n",
      "[7.170212765957447, '04']\n",
      "[6.746478873239437, '22']\n",
      "[5.5777777777777775, '09']\n"
     ]
    }
   ],
   "source": [
    "# Print averages sorted by highest average\n",
    "swap_avg_by_hour = []\n",
    "for hour in avg_by_hour:\n",
    "    swap_avg_by_hour.append([hour[1],hour[0]])\n",
    "swap_avg_by_hour.sort(reverse=True)\n",
    "\n",
    "print('Sorted by Highest Average')\n",
    "for avg in swap_avg_by_hour:\n",
    "    print(avg)"
   ]
  },
  {
   "cell_type": "code",
   "execution_count": 122,
   "metadata": {},
   "outputs": [
    {
     "name": "stdout",
     "output_type": "stream",
     "text": [
      "Top 5 Hours for \"Ask HN\" Comments (in Eastern Time):\n",
      "15:00: 38.59 average comments per post\n",
      "02:00: 23.81 average comments per post\n",
      "20:00: 21.52 average comments per post\n",
      "16:00: 16.80 average comments per post\n",
      "21:00: 16.01 average comments per post\n"
     ]
    }
   ],
   "source": [
    "print('Top 5 Hours for \"Ask HN\" Comments (in Eastern Time):')\n",
    "for hour in swap_avg_by_hour[0:5]:\n",
    "    # Convert hour value to 24:00 format\n",
    "    hour_posted = dt.datetime.strptime(hour[1], '%H')\n",
    "    hour_posted = dt.datetime.strftime(hour_posted,'%H')\n",
    "    \n",
    "    print('{hour}:00: {num:.2f} average comments per post'.format(hour=hour_posted, num=hour[0]))"
   ]
  },
  {
   "cell_type": "markdown",
   "metadata": {},
   "source": [
    "## Conclusion\n",
    "\n",
    "Returning to the exploration questions from the intro:\n",
    "\n",
    "**Do Ask HN or Show HN receive more comments on average?**\n",
    "- \"Ask HN\" posts receive more comments on average than do \"Show HN\" posts.\n",
    "\n",
    "**Do posts created at a certain time receive more comments on average?**\n",
    "- For \"Ask HN\" posts, mid afternoon around 3-5pm EST and evening around 8-10pm EST receive the most comments. There's also a busy late night hour from 2-3AM EST."
   ]
  }
 ],
 "metadata": {
  "kernelspec": {
   "display_name": "Python 3",
   "language": "python",
   "name": "python3"
  },
  "language_info": {
   "codemirror_mode": {
    "name": "ipython",
    "version": 3
   },
   "file_extension": ".py",
   "mimetype": "text/x-python",
   "name": "python",
   "nbconvert_exporter": "python",
   "pygments_lexer": "ipython3",
   "version": "3.8.5"
  }
 },
 "nbformat": 4,
 "nbformat_minor": 4
}
