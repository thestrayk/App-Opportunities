{
 "cells": [
  {
   "cell_type": "markdown",
   "metadata": {},
   "source": [
    "# Profitable Ad-Based App Opportunities for iOS and Google Play Markets\n",
    "\n",
    "## About This Project\n",
    "\n",
    "In this sample project, we are acting as Data Analysts for mock company Evergreen Apps, LLC. Evergreen Apps builds free Android and iOS apps. Their primary source of revenue is via in-app ads. Therefore, **we want to build free apps which will attract the most users** with frequent views to produce ad revenue. To uncover this, we will explore questions such as:\n",
    "- What kinds of free apps are most commonly built? \n",
    "- What kinds of free apps have the most users?\n",
    "\n",
    "#### **Contents**\n",
    "- [Opening The Data](#opening)\n",
    "- [Exploring The Data](#exploring)\n",
    "- [Cleaning The Data](#cleaning)\n",
    "- [Analyzing The Data](#analyzing)\n",
    "    - [Most Common Genres](#common)\n",
    "    - [Most Popular Genres](#popular)\n",
    "- [Conclusion](#conclusion)\n",
    "- [Appendix](#appendix)"
   ]
  },
  {
   "cell_type": "markdown",
   "metadata": {},
   "source": [
    "## Opening The Data <a id=\"opening\"></a>\n",
    "\n",
    "To determine what kinds of apps will be most lucrative for Evergreen Apps, LLC to build, we will explore data regarding apps on the Apple iOS App Store and Google Play App Store. \n",
    "\n",
    "There are millions of available apps, so collecting the data ourselves is cost prohibitive. Instead, we will be using two free datasets available on Kaggle which provide a sample of app data from each store:\n",
    "\n",
    "- **[iOS Dataset on Kaggle](https://www.kaggle.com/ramamet4/app-store-apple-data-set-10k-apps)**: Contains data about approximately seven thousand iOS apps from the Apple App Store. You can download it directly [here](https://dq-content.s3.amazonaws.com/350/AppleStore.csv).\n",
    "- **[Android Dataset on Kaggle](https://www.kaggle.com/lava18/google-play-store-apps)**: Contains data about approximately ten thousand Android apps from Google Play. You can download it directly [here](https://dq-content.s3.amazonaws.com/350/googleplaystore.csv).\n",
    "\n",
    "To begin, let's first open the datasets:"
   ]
  },
  {
   "cell_type": "code",
   "execution_count": 1,
   "metadata": {},
   "outputs": [],
   "source": [
    "from csv import reader\n",
    "\n",
    "### The Apple iOS App Store Dataset ###\n",
    "opened_file = open('AppleStore.csv')\n",
    "read_file = reader(opened_file)\n",
    "ios = list(read_file)\n",
    "ios_header = ios[0]\n",
    "ios = ios[1:]\n",
    "\n",
    "### The Google Play Store Dataset ###\n",
    "opened_file = open('googleplaystore.csv')\n",
    "read_file = reader(opened_file)\n",
    "android = list(read_file)\n",
    "android_header = android[0]\n",
    "android = android[1:]"
   ]
  },
  {
   "cell_type": "markdown",
   "metadata": {},
   "source": [
    "## Exploring The Data <a id=\"exploring\"></a>\n",
    "We will need a way to easily explore the data as we go along. Next, we'll write a function `explore_data()` to do that. \n",
    "\n",
    "The `explore_data()` function will allow us to slice the dataset and print each row of data on a new line. We can also use it to show the total number of rows and columns for any dataset."
   ]
  },
  {
   "cell_type": "code",
   "execution_count": 2,
   "metadata": {},
   "outputs": [],
   "source": [
    "def explore_data(dataset, start, end, rows_and_columns=False):\n",
    "    dataset_slice = dataset[start:end]    \n",
    "    for row in dataset_slice:\n",
    "        print(row)\n",
    "        print('\\n')\n",
    "\n",
    "    if rows_and_columns:\n",
    "        print('Number of rows:', len(dataset))\n",
    "        print('Number of columns:', len(dataset[0]))"
   ]
  },
  {
   "cell_type": "markdown",
   "metadata": {},
   "source": [
    "Using our `explore_data()` function, let's examine a couple rows of each dataset. "
   ]
  },
  {
   "cell_type": "code",
   "execution_count": 3,
   "metadata": {
    "scrolled": true
   },
   "outputs": [
    {
     "name": "stdout",
     "output_type": "stream",
     "text": [
      "Sample of iOS Dataset: \n",
      "---------------------------\n",
      "['id', 'track_name', 'size_bytes', 'currency', 'price', 'rating_count_tot', 'rating_count_ver', 'user_rating', 'user_rating_ver', 'ver', 'cont_rating', 'prime_genre', 'sup_devices.num', 'ipadSc_urls.num', 'lang.num', 'vpp_lic']\n",
      "\n",
      "\n",
      "['284882215', 'Facebook', '389879808', 'USD', '0.0', '2974676', '212', '3.5', '3.5', '95.0', '4+', 'Social Networking', '37', '1', '29', '1']\n",
      "\n",
      "\n",
      "Number of rows: 7197\n",
      "Number of columns: 16\n",
      "\n",
      "\n",
      "Sample of Android Dataset: \n",
      "---------------------------\n",
      "['App', 'Category', 'Rating', 'Reviews', 'Size', 'Installs', 'Type', 'Price', 'Content Rating', 'Genres', 'Last Updated', 'Current Ver', 'Android Ver']\n",
      "\n",
      "\n",
      "['Photo Editor & Candy Camera & Grid & ScrapBook', 'ART_AND_DESIGN', '4.1', '159', '19M', '10,000+', 'Free', '0', 'Everyone', 'Art & Design', 'January 7, 2018', '1.0.0', '4.0.3 and up']\n",
      "\n",
      "\n",
      "Number of rows: 10841\n",
      "Number of columns: 13\n"
     ]
    }
   ],
   "source": [
    "print('Sample of iOS Dataset: \\n---------------------------')\n",
    "print(ios_header)\n",
    "print('\\n')\n",
    "explore_data(ios, 0, 1, True)\n",
    "\n",
    "print('\\n')\n",
    "\n",
    "print('Sample of Android Dataset: \\n---------------------------')\n",
    "print(android_header)\n",
    "print('\\n')\n",
    "explore_data(android, 0, 1, True)"
   ]
  },
  {
   "cell_type": "markdown",
   "metadata": {},
   "source": [
    "We can see the iOS dataset contains 7197 apps, and the Android dataset contains 10841 apps. \n",
    "\n",
    "At first glance, some useful data that each dataset shares might include the app name, genre, and rating. We're also very intersted in the total number of users. For the iOS dataset, this is best represented by the rating count total. For the Android dataset, we could use the total number of installs. "
   ]
  },
  {
   "cell_type": "markdown",
   "metadata": {},
   "source": [
    "## Cleaning The Data <a id=\"cleaning\"></a>\n",
    "\n",
    "Evergreen Apps, LLC will only be building free apps for English speaking audience, so in our analysis, we only want to consider apps that are similar to those that would be built by our company. \n",
    "\n",
    "Therefore, we must first clean the data by removing any apps that don't fit our criteria. We'll remove:\n",
    "1. Entries with invalid or incomplete data.\n",
    "2. Duplicate apps.\n",
    "3. Non-English apps.\n",
    "4. Paid apps."
   ]
  },
  {
   "cell_type": "markdown",
   "metadata": {},
   "source": [
    "### 1) Deleting Bad Data <a id=\"bad-data\"></a>\n",
    "\n",
    "[A Kaggle user has identified](https://www.kaggle.com/lava18/google-play-store-apps/discussion/66015) that row 10472 of our Android dataset has an empty `Content Rating`."
   ]
  },
  {
   "cell_type": "code",
   "execution_count": 4,
   "metadata": {},
   "outputs": [
    {
     "name": "stdout",
     "output_type": "stream",
     "text": [
      "['App', 'Category', 'Rating', 'Reviews', 'Size', 'Installs', 'Type', 'Price', 'Content Rating', 'Genres', 'Last Updated', 'Current Ver', 'Android Ver'] \n",
      "\n",
      "['Life Made WI-Fi Touchscreen Photo Frame', '1.9', '19', '3.0M', '1,000+', 'Free', '0', 'Everyone', '', 'February 11, 2018', '1.0.19', '4.0 and up']\n"
     ]
    }
   ],
   "source": [
    "print(android_header, '\\n')\n",
    "print(android[10472])"
   ]
  },
  {
   "cell_type": "markdown",
   "metadata": {},
   "source": [
    "Let's delete that row, `android[10472]`, from our dataset."
   ]
  },
  {
   "cell_type": "code",
   "execution_count": 5,
   "metadata": {},
   "outputs": [
    {
     "name": "stdout",
     "output_type": "stream",
     "text": [
      "['osmino Wi-Fi: free WiFi', 'TOOLS', '4.2', '134203', '4.1M', '10,000,000+', 'Free', '0', 'Everyone', 'Tools', 'August 7, 2018', '6.06.14', '4.4 and up']\n"
     ]
    }
   ],
   "source": [
    "del android[10472]\n",
    "\n",
    "print(android[10472])"
   ]
  },
  {
   "cell_type": "markdown",
   "metadata": {},
   "source": [
    "We can see the row has been successfully deleted!"
   ]
  },
  {
   "cell_type": "markdown",
   "metadata": {},
   "source": [
    "### 2) Removing Duplicate Entries <a id=\"dupes\"></a>\n",
    "\n",
    "#### Part 1\n",
    "\n",
    "We don't want any duplicate apps in our datasets which could skew our data. To begin, let's count how many duplicates there are:\n",
    "\n",
    "- We'll first create an empty list for duplicate apps and for unique apps. \n",
    "- Then, we'll loop through the datasets (`android` or `iOS`), storing each app in the unique app list as we first encounter it, and storing it in the duplicate app list if it already exists in the unique app list. \n",
    "- To identify each unique app, we can reference the app name from the `android` dataset, and the ID number from the `ios` dataset. In both cases, that is located at index `app[0]`."
   ]
  },
  {
   "cell_type": "code",
   "execution_count": 6,
   "metadata": {},
   "outputs": [
    {
     "name": "stdout",
     "output_type": "stream",
     "text": [
      "Number of duplicate Android apps:  1181\n",
      "Examples of duplicate Android apps:  ['Quick PDF Scanner + OCR FREE', 'Box', 'Google My Business', 'ZOOM Cloud Meetings', 'join.me - Simple Meetings']\n"
     ]
    }
   ],
   "source": [
    "## Counting Android Duplicates ##\n",
    "android_duplicate_apps = []\n",
    "android_unique_apps = []\n",
    "\n",
    "for app in android:\n",
    "    if app[0] in android_unique_apps:\n",
    "        android_duplicate_apps.append(app[0])\n",
    "    else:\n",
    "        android_unique_apps.append(app[0])\n",
    "        \n",
    "print('Number of duplicate Android apps: ', len(android_duplicate_apps))\n",
    "print('Examples of duplicate Android apps: ', android_duplicate_apps[:5])"
   ]
  },
  {
   "cell_type": "code",
   "execution_count": 7,
   "metadata": {},
   "outputs": [
    {
     "name": "stdout",
     "output_type": "stream",
     "text": [
      "Number of duplicate iOS apps:  0\n",
      "Examples of duplicate iOS apps:  []\n"
     ]
    }
   ],
   "source": [
    "## Counting iOS Duplicates ##\n",
    "ios_duplicate_apps = []\n",
    "ios_unique_apps = []\n",
    "\n",
    "for app in ios:\n",
    "    if app[0] in ios_unique_apps:\n",
    "        ios_duplicate_apps.append(app[0])\n",
    "    else:\n",
    "        ios_unique_apps.append(app[0])\n",
    "        \n",
    "print('Number of duplicate iOS apps: ', len(ios_duplicate_apps))\n",
    "print('Examples of duplicate iOS apps: ', ios_duplicate_apps[:15])"
   ]
  },
  {
   "cell_type": "markdown",
   "metadata": {},
   "source": [
    "There are a lot of duplicate Android apps to delete (1181 of them!), and no iOS duplicate apps. Let's work on removing those Android duplicates!\n",
    "\n",
    "#### Part 2\n",
    "\n",
    "We could delete the duplicates at random, but for the purposes of our analysis, there is a better way. Since we will be analyzing which apps attract the most users, we'll keep the entry with the most reviews and delete the extras.\n",
    "\n",
    "First, let's extract the entries with the highest number of ratings for each app, and store it in a dictionary called `reviews_max`. \n",
    "\n",
    "We can double check we got them all by verifying the number of values in `reviews_max` is equal to the number of values in the `android` dataset minus the number of duplicates we identified above."
   ]
  },
  {
   "cell_type": "code",
   "execution_count": 8,
   "metadata": {},
   "outputs": [
    {
     "name": "stdout",
     "output_type": "stream",
     "text": [
      "Expected Number of Apps: 9659\n",
      "Total Apps: 9659\n"
     ]
    }
   ],
   "source": [
    "## Store Android Apps with Most Reviews ##\n",
    "reviews_max = {}\n",
    "\n",
    "for app in android:\n",
    "    name = app[0]\n",
    "    n_reviews = float(app[3])\n",
    "    \n",
    "    if name in reviews_max and reviews_max[name] < n_reviews:\n",
    "        reviews_max[name] = n_reviews\n",
    "        \n",
    "    elif name not in reviews_max:\n",
    "        reviews_max[name] = n_reviews\n",
    "\n",
    "print('Expected Number of Apps: ' + str(len(android) - len(android_duplicate_apps)))\n",
    "print('Total Apps: ' + str(len(reviews_max)))"
   ]
  },
  {
   "cell_type": "markdown",
   "metadata": {},
   "source": [
    "Next, for each app in the `android` dataset, we'll compare its number of ratings to the number of ratings in `reviews_max`. If they are equal, we'll keep that entry by appending it to a new list called `android_clean`. Entries that have a lower number of ratings will simply be ignored.\n",
    "\n",
    "_But wait!_ There's one possible edge case we haven't accounted for: What if there are multiple entries for the same app that _also_ have the same number of ratings? \n",
    "\n",
    "To account for this, as we add row entries to the new `android_clean` dataset, we'll also  store the name of each app into a separate list called `already_added`. If the app has already been added to `android_clean`, we can simply skip it. So, in our `if` statement we will check that the app is `not in already_added`. This will prevent us from adding any duplicates that also happen to have the same number of ratings."
   ]
  },
  {
   "cell_type": "code",
   "execution_count": 9,
   "metadata": {},
   "outputs": [],
   "source": [
    "## Add Unique Apps with Most Ratings to a Clean List ##\n",
    "android_clean = []\n",
    "already_added = []\n",
    "\n",
    "for app in android:\n",
    "    name = app[0]\n",
    "    n_reviews = float(app[3])\n",
    "    \n",
    "    if n_reviews == reviews_max[name] and name not in already_added:\n",
    "        android_clean.append(app)\n",
    "        already_added.append(name)"
   ]
  },
  {
   "cell_type": "markdown",
   "metadata": {},
   "source": [
    "Finally, let's quickly explore the new clean dataset and verify that we have the expected number of unique apps, 9659. "
   ]
  },
  {
   "cell_type": "code",
   "execution_count": 10,
   "metadata": {
    "scrolled": true
   },
   "outputs": [
    {
     "name": "stdout",
     "output_type": "stream",
     "text": [
      "['Photo Editor & Candy Camera & Grid & ScrapBook', 'ART_AND_DESIGN', '4.1', '159', '19M', '10,000+', 'Free', '0', 'Everyone', 'Art & Design', 'January 7, 2018', '1.0.0', '4.0.3 and up']\n",
      "\n",
      "\n",
      "['U Launcher Lite – FREE Live Cool Themes, Hide Apps', 'ART_AND_DESIGN', '4.7', '87510', '8.7M', '5,000,000+', 'Free', '0', 'Everyone', 'Art & Design', 'August 1, 2018', '1.2.4', '4.0.3 and up']\n",
      "\n",
      "\n",
      "['Sketch - Draw & Paint', 'ART_AND_DESIGN', '4.5', '215644', '25M', '50,000,000+', 'Free', '0', 'Teen', 'Art & Design', 'June 8, 2018', 'Varies with device', '4.2 and up']\n",
      "\n",
      "\n",
      "Number of rows: 9659\n",
      "Number of columns: 13\n"
     ]
    }
   ],
   "source": [
    "explore_data(android_clean, 0, 3, True)"
   ]
  },
  {
   "cell_type": "markdown",
   "metadata": {},
   "source": [
    "Success!"
   ]
  },
  {
   "cell_type": "markdown",
   "metadata": {},
   "source": [
    "### 3) Removing Non-English Apps <a id=\"non-english\"></a>\n",
    "\n",
    "There are apps in both the iOS and Android datasets that do not have English names."
   ]
  },
  {
   "cell_type": "code",
   "execution_count": 11,
   "metadata": {},
   "outputs": [
    {
     "name": "stdout",
     "output_type": "stream",
     "text": [
      "爱奇艺PPS -《欢乐颂2》电视剧热播\n",
      "中国語 AQリスニング\n"
     ]
    }
   ],
   "source": [
    "print(ios[813][1])\n",
    "print(android_clean[4412][0])"
   ]
  },
  {
   "cell_type": "markdown",
   "metadata": {},
   "source": [
    "Since our company will only be building English apps, we want to remove these. One way to do this is by removing apps that have symbols not common to the English language in their name.\n",
    "\n",
    "Using the `ord()` function, we can identify the unicode of any character. Common English characters are encoded using the American Standard Code for Information Interchange, or ASCII standard. The common English ASCII characters have a corresponding code from 0 to 127. So, to remove the non-English apps, we'll want to remove apps containing characters greater than 127."
   ]
  },
  {
   "cell_type": "code",
   "execution_count": 12,
   "metadata": {},
   "outputs": [
    {
     "name": "stdout",
     "output_type": "stream",
     "text": [
      "True\n",
      "False\n"
     ]
    }
   ],
   "source": [
    "def is_english(string):    \n",
    "    for character in string:\n",
    "        if ord(character) > 127:\n",
    "                return False\n",
    "            \n",
    "    return True\n",
    "\n",
    "print(is_english('Instagram'))\n",
    "print(is_english('爱奇艺PPS -《欢乐颂2》电视剧热播'))"
   ]
  },
  {
   "cell_type": "markdown",
   "metadata": {},
   "source": [
    "But what about apps with other special characters beyond the standard ASCII set or with emoji in the name, such as the examples below?"
   ]
  },
  {
   "cell_type": "code",
   "execution_count": 13,
   "metadata": {},
   "outputs": [
    {
     "name": "stdout",
     "output_type": "stream",
     "text": [
      "False\n",
      "False\n",
      "8482\n",
      "128540\n"
     ]
    }
   ],
   "source": [
    "print(is_english('Docs To Go™ Free Office Suite'))\n",
    "print(is_english('Instachat 😜'))\n",
    "\n",
    "print(ord('™'))\n",
    "print(ord('😜'))"
   ]
  },
  {
   "cell_type": "markdown",
   "metadata": {},
   "source": [
    "To account for this, we can remove apps that have more than three nonstandard special characters, and keep the rest. \n",
    "\n",
    "This isn't a perfect solution, but we should be able to identify and remove the majority of non-English apps, while keeping most of the English apps with special characters, using this method."
   ]
  },
  {
   "cell_type": "code",
   "execution_count": 14,
   "metadata": {},
   "outputs": [],
   "source": [
    "def is_english(string):\n",
    "    non_ascii = 0\n",
    "    \n",
    "    for character in string:\n",
    "        if ord(character) > 127:\n",
    "            non_ascii += 1\n",
    "            \n",
    "            if non_ascii > 3:\n",
    "                return False\n",
    "            \n",
    "    return True"
   ]
  },
  {
   "cell_type": "markdown",
   "metadata": {},
   "source": [
    "Now that we've written a function to identify the English apps, let's store them in a new list for each dataset."
   ]
  },
  {
   "cell_type": "code",
   "execution_count": 15,
   "metadata": {},
   "outputs": [
    {
     "name": "stdout",
     "output_type": "stream",
     "text": [
      "Sample of Android Dataset: \n",
      "---------------------------\n",
      "['Photo Editor & Candy Camera & Grid & ScrapBook', 'ART_AND_DESIGN', '4.1', '159', '19M', '10,000+', 'Free', '0', 'Everyone', 'Art & Design', 'January 7, 2018', '1.0.0', '4.0.3 and up']\n",
      "\n",
      "\n",
      "['U Launcher Lite – FREE Live Cool Themes, Hide Apps', 'ART_AND_DESIGN', '4.7', '87510', '8.7M', '5,000,000+', 'Free', '0', 'Everyone', 'Art & Design', 'August 1, 2018', '1.2.4', '4.0.3 and up']\n",
      "\n",
      "\n",
      "['Sketch - Draw & Paint', 'ART_AND_DESIGN', '4.5', '215644', '25M', '50,000,000+', 'Free', '0', 'Teen', 'Art & Design', 'June 8, 2018', 'Varies with device', '4.2 and up']\n",
      "\n",
      "\n",
      "Number of rows: 9614\n",
      "Number of columns: 13\n",
      "\n",
      "\n",
      "Sample of iOS Dataset: \n",
      "---------------------------\n",
      "['284882215', 'Facebook', '389879808', 'USD', '0.0', '2974676', '212', '3.5', '3.5', '95.0', '4+', 'Social Networking', '37', '1', '29', '1']\n",
      "\n",
      "\n",
      "['389801252', 'Instagram', '113954816', 'USD', '0.0', '2161558', '1289', '4.5', '4.0', '10.23', '12+', 'Photo & Video', '37', '0', '29', '1']\n",
      "\n",
      "\n",
      "['529479190', 'Clash of Clans', '116476928', 'USD', '0.0', '2130805', '579', '4.5', '4.5', '9.24.12', '9+', 'Games', '38', '5', '18', '1']\n",
      "\n",
      "\n",
      "Number of rows: 6183\n",
      "Number of columns: 16\n"
     ]
    }
   ],
   "source": [
    "android_english = []\n",
    "ios_english = []\n",
    "\n",
    "for app in android_clean:\n",
    "    name = app[0]\n",
    "    if is_english(name):\n",
    "        android_english.append(app)\n",
    "        \n",
    "for app in ios:\n",
    "    name = app[1]\n",
    "    if is_english(name):\n",
    "        ios_english.append(app)\n",
    "\n",
    "print('Sample of Android Dataset: \\n---------------------------')\n",
    "explore_data(android_english,0,3,True)\n",
    "print('\\n')\n",
    "print('Sample of iOS Dataset: \\n---------------------------')\n",
    "explore_data(ios_english,0,3,True)"
   ]
  },
  {
   "cell_type": "markdown",
   "metadata": {},
   "source": [
    "Exploring the data, we can now see we have 9614 Android apps and 6183 iOS apps remaining."
   ]
  },
  {
   "cell_type": "markdown",
   "metadata": {},
   "source": [
    "### 4) Removing Paid Apps <a id=\"paid\"></a>\n",
    "\n",
    "Finally, since our company builds only free apps, we will remove any paid apps from the data sets.\n",
    "\n",
    "For the `ios` dataset, the app price is located at index `app[4]`. In the `android` dataset, it looks like apps are categorized already as free or paid at index `app[6]`. Let's take a look at what unique values exist for each dataset and how many there are for each."
   ]
  },
  {
   "cell_type": "code",
   "execution_count": 16,
   "metadata": {},
   "outputs": [
    {
     "name": "stdout",
     "output_type": "stream",
     "text": [
      "iOS prices:\n",
      "{'0.0': 3222, '1.99': 610, '0.99': 641, '6.99': 165, '2.99': 669, '7.99': 30, '4.99': 375, '9.99': 76, '3.99': 266, '8.99': 8, '5.99': 43, '14.99': 15, '13.99': 6, '19.99': 13, '17.99': 3, '15.99': 4, '24.99': 8, '20.99': 1, '29.99': 6, '12.99': 1, '39.99': 2, '74.99': 1, '16.99': 2, '249.99': 1, '11.99': 3, '27.99': 1, '49.99': 2, '59.99': 3, '22.99': 1, '18.99': 1, '99.99': 1, '21.99': 1, '34.99': 1, '299.99': 1}\n",
      "\n",
      "\n",
      "Android prices:\n",
      "{'Free': 8863, 'Paid': 750, 'NaN': 1}\n"
     ]
    }
   ],
   "source": [
    "ios_prices = {}\n",
    "for app in ios_english:\n",
    "    price = app[4]\n",
    "    if price in ios_prices:\n",
    "        ios_prices[price] += 1\n",
    "    else:\n",
    "        ios_prices[price] = 1\n",
    "        \n",
    "android_type = {}\n",
    "for app in android_english:\n",
    "    type = app[6]\n",
    "    if type in android_type:\n",
    "        android_type[type] += 1\n",
    "    else:\n",
    "        android_type[type] = 1\n",
    "\n",
    "print('iOS prices:')\n",
    "print(ios_prices)\n",
    "print('\\n')\n",
    "print('Android prices:')\n",
    "print(android_type)"
   ]
  },
  {
   "cell_type": "markdown",
   "metadata": {},
   "source": [
    "There are 3222 free iOS apps and 8863 free Android apps. Let's isolate those free apps and store them in a new list for each platform. These will be our final clean datasets that we will use for analysis."
   ]
  },
  {
   "cell_type": "code",
   "execution_count": 17,
   "metadata": {},
   "outputs": [
    {
     "name": "stdout",
     "output_type": "stream",
     "text": [
      "8863\n",
      "3222\n"
     ]
    }
   ],
   "source": [
    "ios_final = []\n",
    "android_final = []\n",
    "\n",
    "for app in ios_english:\n",
    "    price = app[4]\n",
    "    if price == '0.0':\n",
    "        ios_final.append(app)\n",
    "        \n",
    "android_type = {}\n",
    "for app in android_english:\n",
    "    type = app[6]\n",
    "    if type == 'Free':\n",
    "        android_final.append(app)\n",
    "\n",
    "print(len(android_final))\n",
    "print(len(ios_final))"
   ]
  },
  {
   "cell_type": "markdown",
   "metadata": {},
   "source": [
    "Now, we're ready to start analysis!"
   ]
  },
  {
   "cell_type": "markdown",
   "metadata": {},
   "source": [
    "## Analyzing The Data <a id=\"analyzing\"></a>\n",
    "\n",
    "Now that we have a clean set of data for each app store, let's revisit our intent in analyzing the data and what questions we hope to answer.\n",
    "\n",
    "Our company, Evergreen Apps LLC, builds free iOS and Android apps, where the main source of revenue is in-app ads. To minimize risks and overhead, We validate app ideas by:\n",
    "\n",
    "1. Build a minimal Android version and add it to Google Play.\n",
    "2. If the app has a good response from users, then develop it further.\n",
    "3. If the app is profitable after six months, build an iOS version and add it to the iOS App Store.\n",
    "\n",
    "Since our strategy involves building apps that will succeed in both markets, let's aim to **identify what types of apps are popular on both iOS and Android devices.**\n",
    "\n",
    "### Most Common Genres <a id=\"common\"></a>\n",
    "\n",
    "Let's identify what genres are most common in each app market. In the iOS dataset, we can use the `prime_genre` column, and in the Android dataset, we can use the `Category` and `Genres` columns.\n",
    "\n",
    "#### Part 1: Building frequency tables\n",
    "We will need to use frequency tables to analyze the data from each column. Let's write a functions that will build frequency tables for us."
   ]
  },
  {
   "cell_type": "code",
   "execution_count": 18,
   "metadata": {},
   "outputs": [],
   "source": [
    "def freq_table(dataset, index):\n",
    "    \n",
    "    # Store frequency of each value\n",
    "    table = {}\n",
    "    total = 0\n",
    "    \n",
    "    for row in dataset:\n",
    "        total += 1\n",
    "        value = row[index]\n",
    "        if value in table:\n",
    "            table[value] += 1\n",
    "        else:\n",
    "            table[value] = 1\n",
    "    \n",
    "    # Calculate percentage of total apps\n",
    "    table_percentages = {}\n",
    "    for key in table:\n",
    "        percentage = round((table[key] / total) * 100,2)\n",
    "        table_percentages[key] = percentage\n",
    "        \n",
    "    return table_percentages"
   ]
  },
  {
   "cell_type": "code",
   "execution_count": 19,
   "metadata": {},
   "outputs": [
    {
     "data": {
      "text/plain": [
       "{'Social Networking': 3.29,\n",
       " 'Photo & Video': 4.97,\n",
       " 'Games': 58.16,\n",
       " 'Music': 2.05,\n",
       " 'Reference': 0.56,\n",
       " 'Health & Fitness': 2.02,\n",
       " 'Weather': 0.87,\n",
       " 'Utilities': 2.51,\n",
       " 'Travel': 1.24,\n",
       " 'Shopping': 2.61,\n",
       " 'News': 1.33,\n",
       " 'Navigation': 0.19,\n",
       " 'Lifestyle': 1.58,\n",
       " 'Entertainment': 7.88,\n",
       " 'Food & Drink': 0.81,\n",
       " 'Sports': 2.14,\n",
       " 'Book': 0.43,\n",
       " 'Finance': 1.12,\n",
       " 'Education': 3.66,\n",
       " 'Productivity': 1.74,\n",
       " 'Business': 0.53,\n",
       " 'Catalogs': 0.12,\n",
       " 'Medical': 0.19}"
      ]
     },
     "execution_count": 19,
     "metadata": {},
     "output_type": "execute_result"
    }
   ],
   "source": [
    "freq_table(ios_final, 11)"
   ]
  },
  {
   "cell_type": "markdown",
   "metadata": {},
   "source": [
    "#### Part 2: Displaying ordered frequency tables\n",
    "\n",
    "The results are difficult to digest in the current order, so let's also build a function that will display frequency tables in order from most to least."
   ]
  },
  {
   "cell_type": "code",
   "execution_count": 25,
   "metadata": {},
   "outputs": [],
   "source": [
    "def display_table(dataset,index):\n",
    "    table = freq_table(dataset,index)\n",
    "    \n",
    "    # Store key-value pairs as tuples\n",
    "    table_display = []\n",
    "    for key in table:\n",
    "        key_val_as_tuple = (table[key], key)\n",
    "        table_display.append(key_val_as_tuple)\n",
    "        \n",
    "    # Sort the tuples\n",
    "    table_sorted = sorted(table_display, reverse = True)\n",
    "    \n",
    "    # Print the tuples\n",
    "    for entry in table_sorted:\n",
    "        print(entry[1], ':', entry[0])"
   ]
  },
  {
   "cell_type": "markdown",
   "metadata": {},
   "source": [
    "#### Part 3: Examining frequency tables\n",
    "\n",
    "Let's first examine the `prime_genres` column from the iOS dataset."
   ]
  },
  {
   "cell_type": "code",
   "execution_count": 21,
   "metadata": {},
   "outputs": [
    {
     "name": "stdout",
     "output_type": "stream",
     "text": [
      "Games : 58.16\n",
      "Entertainment : 7.88\n",
      "Photo & Video : 4.97\n",
      "Education : 3.66\n",
      "Social Networking : 3.29\n",
      "Shopping : 2.61\n",
      "Utilities : 2.51\n",
      "Sports : 2.14\n",
      "Music : 2.05\n",
      "Health & Fitness : 2.02\n",
      "Productivity : 1.74\n",
      "Lifestyle : 1.58\n",
      "News : 1.33\n",
      "Travel : 1.24\n",
      "Finance : 1.12\n",
      "Weather : 0.87\n",
      "Food & Drink : 0.81\n",
      "Reference : 0.56\n",
      "Business : 0.53\n",
      "Book : 0.43\n",
      "Navigation : 0.19\n",
      "Medical : 0.19\n",
      "Catalogs : 0.12\n"
     ]
    }
   ],
   "source": [
    "display_table(ios_final, 11)"
   ]
  },
  {
   "cell_type": "markdown",
   "metadata": {},
   "source": [
    "We can see that **games** are by far the most common app genre, comprising over half (58%!) of all the free English apps on the iOS App Store. \n",
    "\n",
    "The second most common genre is **entertainment**, though this makes up a much smaller percentage of the free English apps, at less than 8%. Third most common are **photo & video** apps closely following at a little less than 5%.\n",
    "\n",
    "Beyond that are education apps (3.66%), social networking (3.29%), shopping (2.61%), utilities (2.51%), and sports (2.14%).\n",
    "\n",
    "These eight categories combined make up 85% of the total free English apps on the iOS App Store. Our general impression is that apps designed for fun and entertainment dominate the iOS App Store, while apps built for a more practical purpose such as reference, business, or news, are far less commonly built.\n",
    "\n",
    "Next let's examine the most common `Genres` in the android dataset."
   ]
  },
  {
   "cell_type": "code",
   "execution_count": 22,
   "metadata": {},
   "outputs": [
    {
     "name": "stdout",
     "output_type": "stream",
     "text": [
      "Tools : 8.45\n",
      "Entertainment : 6.07\n",
      "Education : 5.35\n",
      "Business : 4.59\n",
      "Productivity : 3.89\n",
      "Lifestyle : 3.89\n",
      "Finance : 3.7\n",
      "Medical : 3.53\n",
      "Sports : 3.46\n",
      "Personalization : 3.32\n",
      "Communication : 3.24\n",
      "Action : 3.1\n",
      "Health & Fitness : 3.08\n",
      "Photography : 2.94\n",
      "News & Magazines : 2.8\n",
      "Social : 2.66\n",
      "Travel & Local : 2.32\n",
      "Shopping : 2.25\n",
      "Books & Reference : 2.14\n",
      "Simulation : 2.04\n",
      "Dating : 1.86\n",
      "Arcade : 1.85\n",
      "Video Players & Editors : 1.77\n",
      "Casual : 1.76\n",
      "Maps & Navigation : 1.4\n",
      "Food & Drink : 1.24\n",
      "Puzzle : 1.13\n",
      "Racing : 0.99\n",
      "Role Playing : 0.94\n",
      "Libraries & Demo : 0.94\n",
      "Auto & Vehicles : 0.93\n",
      "Strategy : 0.9\n",
      "House & Home : 0.82\n",
      "Weather : 0.8\n",
      "Events : 0.71\n",
      "Adventure : 0.68\n",
      "Comics : 0.61\n",
      "Beauty : 0.6\n",
      "Art & Design : 0.6\n",
      "Parenting : 0.5\n",
      "Card : 0.45\n",
      "Casino : 0.43\n",
      "Trivia : 0.42\n",
      "Educational;Education : 0.39\n",
      "Board : 0.38\n",
      "Educational : 0.37\n",
      "Education;Education : 0.34\n",
      "Word : 0.26\n",
      "Casual;Pretend Play : 0.24\n",
      "Music : 0.2\n",
      "Racing;Action & Adventure : 0.17\n",
      "Puzzle;Brain Games : 0.17\n",
      "Entertainment;Music & Video : 0.17\n",
      "Casual;Brain Games : 0.14\n",
      "Casual;Action & Adventure : 0.14\n",
      "Arcade;Action & Adventure : 0.12\n",
      "Action;Action & Adventure : 0.1\n",
      "Educational;Pretend Play : 0.09\n",
      "Simulation;Action & Adventure : 0.08\n",
      "Parenting;Education : 0.08\n",
      "Entertainment;Brain Games : 0.08\n",
      "Board;Brain Games : 0.08\n",
      "Parenting;Music & Video : 0.07\n",
      "Educational;Brain Games : 0.07\n",
      "Casual;Creativity : 0.07\n",
      "Art & Design;Creativity : 0.07\n",
      "Education;Pretend Play : 0.06\n",
      "Role Playing;Pretend Play : 0.05\n",
      "Education;Creativity : 0.05\n",
      "Role Playing;Action & Adventure : 0.03\n",
      "Puzzle;Action & Adventure : 0.03\n",
      "Entertainment;Creativity : 0.03\n",
      "Entertainment;Action & Adventure : 0.03\n",
      "Educational;Creativity : 0.03\n",
      "Educational;Action & Adventure : 0.03\n",
      "Education;Music & Video : 0.03\n",
      "Education;Brain Games : 0.03\n",
      "Education;Action & Adventure : 0.03\n",
      "Adventure;Action & Adventure : 0.03\n",
      "Video Players & Editors;Music & Video : 0.02\n",
      "Sports;Action & Adventure : 0.02\n",
      "Simulation;Pretend Play : 0.02\n",
      "Puzzle;Creativity : 0.02\n",
      "Music;Music & Video : 0.02\n",
      "Entertainment;Pretend Play : 0.02\n",
      "Casual;Education : 0.02\n",
      "Board;Action & Adventure : 0.02\n",
      "Video Players & Editors;Creativity : 0.01\n",
      "Trivia;Education : 0.01\n",
      "Travel & Local;Action & Adventure : 0.01\n",
      "Tools;Education : 0.01\n",
      "Strategy;Education : 0.01\n",
      "Strategy;Creativity : 0.01\n",
      "Strategy;Action & Adventure : 0.01\n",
      "Simulation;Education : 0.01\n",
      "Role Playing;Brain Games : 0.01\n",
      "Racing;Pretend Play : 0.01\n",
      "Puzzle;Education : 0.01\n",
      "Parenting;Brain Games : 0.01\n",
      "Music & Audio;Music & Video : 0.01\n",
      "Lifestyle;Pretend Play : 0.01\n",
      "Lifestyle;Education : 0.01\n",
      "Health & Fitness;Education : 0.01\n",
      "Health & Fitness;Action & Adventure : 0.01\n",
      "Entertainment;Education : 0.01\n",
      "Communication;Creativity : 0.01\n",
      "Comics;Creativity : 0.01\n",
      "Casual;Music & Video : 0.01\n",
      "Card;Action & Adventure : 0.01\n",
      "Books & Reference;Education : 0.01\n",
      "Art & Design;Pretend Play : 0.01\n",
      "Art & Design;Action & Adventure : 0.01\n",
      "Arcade;Pretend Play : 0.01\n",
      "Adventure;Education : 0.01\n"
     ]
    }
   ],
   "source": [
    "display_table(android_final, 9)"
   ]
  },
  {
   "cell_type": "markdown",
   "metadata": {},
   "source": [
    "The `Genres` column in the Android dataset seems to provide a very granular and overwhelming number of different genres. Let's try taking a look at the `Category` column instead to see if it provides a more general app categorization scheme."
   ]
  },
  {
   "cell_type": "code",
   "execution_count": 23,
   "metadata": {},
   "outputs": [
    {
     "name": "stdout",
     "output_type": "stream",
     "text": [
      "FAMILY : 18.9\n",
      "GAME : 9.73\n",
      "TOOLS : 8.46\n",
      "BUSINESS : 4.59\n",
      "LIFESTYLE : 3.9\n",
      "PRODUCTIVITY : 3.89\n",
      "FINANCE : 3.7\n",
      "MEDICAL : 3.53\n",
      "SPORTS : 3.4\n",
      "PERSONALIZATION : 3.32\n",
      "COMMUNICATION : 3.24\n",
      "HEALTH_AND_FITNESS : 3.08\n",
      "PHOTOGRAPHY : 2.94\n",
      "NEWS_AND_MAGAZINES : 2.8\n",
      "SOCIAL : 2.66\n",
      "TRAVEL_AND_LOCAL : 2.34\n",
      "SHOPPING : 2.25\n",
      "BOOKS_AND_REFERENCE : 2.14\n",
      "DATING : 1.86\n",
      "VIDEO_PLAYERS : 1.79\n",
      "MAPS_AND_NAVIGATION : 1.4\n",
      "FOOD_AND_DRINK : 1.24\n",
      "EDUCATION : 1.16\n",
      "ENTERTAINMENT : 0.96\n",
      "LIBRARIES_AND_DEMO : 0.94\n",
      "AUTO_AND_VEHICLES : 0.93\n",
      "HOUSE_AND_HOME : 0.82\n",
      "WEATHER : 0.8\n",
      "EVENTS : 0.71\n",
      "PARENTING : 0.65\n",
      "ART_AND_DESIGN : 0.64\n",
      "COMICS : 0.62\n",
      "BEAUTY : 0.6\n"
     ]
    }
   ],
   "source": [
    "display_table(android_final, 1)"
   ]
  },
  {
   "cell_type": "markdown",
   "metadata": {},
   "source": [
    "Much better.\n",
    "\n",
    "**Family** apps seem to be the most common on the Android App store. However, when we take a look at the family category on the actual Goole Play store, it seems that most of the family apps are also **games**. Together, this would bring family and games to 28.63% of all free English apps on the Android app store.\n",
    "\n",
    "So, while this family and games combo of for-fun apps comprise the top categories on the Android App Store, it's only half the amount of free English games on the iOS App Store. \n",
    "\n",
    "The Android App Store seems to contain a much more balanced landscape of practical apps, with the next most common categories being **tools** (8.46%), **business** (4.59%), **lifestyle** (3.9%), **productivity** (3.89%), **finance** (3.7%), and **medical** (3.53%). \n",
    "\n",
    "So far, we have an idea of the most commonly *built* free English apps in each market, but we don't know much about the *demand* for those apps. For example, there are many games apps available on both platforms, but does the demand from actual users warrant that many, or do they go largely unplayed?"
   ]
  },
  {
   "cell_type": "markdown",
   "metadata": {},
   "source": [
    "### Most Popular Genres <a id=\"popular\"></a>\n",
    "\n",
    "One way to better understand demand for different app genres is to assess which genres attract the most users. \n",
    "\n",
    "#### Part 1: Most Popular Genres on iOS\n",
    "\n",
    "The Android dataset contains data on number of `Installs` per app, however the iOS dataset doesn't have such a direct data point to go from. So for iOS, let's instead try analyzing genres by the **total number of ratings** (`rating_count_tot`)."
   ]
  },
  {
   "cell_type": "code",
   "execution_count": 63,
   "metadata": {},
   "outputs": [
    {
     "name": "stdout",
     "output_type": "stream",
     "text": [
      "Navigation : 86090\n",
      "Reference : 74942\n",
      "Social Networking : 71548\n",
      "Music : 57327\n",
      "Weather : 52280\n",
      "Book : 39758\n",
      "Food & Drink : 33334\n",
      "Finance : 31468\n",
      "Photo & Video : 28442\n",
      "Travel : 28244\n",
      "Shopping : 26920\n",
      "Health & Fitness : 23298\n",
      "Sports : 23009\n",
      "Games : 22789\n",
      "News : 21248\n",
      "Productivity : 21028\n",
      "Utilities : 18684\n",
      "Lifestyle : 16486\n",
      "Entertainment : 14030\n",
      "Business : 7491\n",
      "Education : 7004\n",
      "Catalogs : 4004\n",
      "Medical : 612\n"
     ]
    }
   ],
   "source": [
    "ios_genres = freq_table(ios_final,11) # Get list of iOS app genres\n",
    "ios_avg_sorted = []\n",
    "\n",
    "# For each iOS app genre\n",
    "for genre in ios_genres:\n",
    "    total = 0\n",
    "    len_genre = 0\n",
    "    \n",
    "    # Store total ratings for each app per genre\n",
    "    for app in ios_final:\n",
    "        genre_app = app[11]\n",
    "        if genre_app == genre:\n",
    "            total += int(app[5])\n",
    "            len_genre += 1 # Count total apps per genre\n",
    "    \n",
    "    # Find average total ratings per app in each genre\n",
    "    ios_avg_sorted.append((round(total / len_genre),genre))\n",
    "\n",
    "# Sort averages descending\n",
    "ios_avg_sorted = sorted(ios_avg_sorted, reverse = True)\n",
    "\n",
    "# Print sorted list of averages\n",
    "for value in ios_avg_sorted:\n",
    "    print(value[1],':',value[0])"
   ]
  },
  {
   "cell_type": "markdown",
   "metadata": {},
   "source": [
    "Let's write a function to dig into data for each genre:"
   ]
  },
  {
   "cell_type": "code",
   "execution_count": 264,
   "metadata": {},
   "outputs": [
    {
     "name": "stdout",
     "output_type": "stream",
     "text": [
      "Waze - GPS Navigation, Maps & Real-time Traffic : 345046\n",
      "Google Maps - Navigation & Transit : 154911\n",
      "Geocaching® : 12811\n",
      "CoPilot GPS – Car Navigation & Offline Maps : 3582\n",
      "ImmobilienScout24: Real Estate Search in Germany : 187\n",
      "Railway Route Search : 5\n"
     ]
    }
   ],
   "source": [
    "def print_ios_genre(genre,results=12):\n",
    "    apps = 0\n",
    "    for app in ios_final:\n",
    "        if app[11] == genre and apps < results:\n",
    "            print(app[1], ':', app[5])\n",
    "            apps += 1\n",
    "            \n",
    "print_ios_genre('Navigation')"
   ]
  },
  {
   "cell_type": "markdown",
   "metadata": {},
   "source": [
    "For free English apps on iOS, **Navigation** apps have the most ratings per app. However, on closer inspection, we can see the results are skewed significantly.\n",
    "\n",
    "There are only 6 free English apps in this genre, and the vast majority of ratings are for two extremely popular navigation apps, Waze and Google Maps. These apps would be extremely difficult to compete with. "
   ]
  },
  {
   "cell_type": "code",
   "execution_count": 265,
   "metadata": {},
   "outputs": [
    {
     "name": "stdout",
     "output_type": "stream",
     "text": [
      "Facebook : 2974676\n",
      "Pinterest : 1061624\n",
      "Skype for iPhone : 373519\n",
      "Messenger : 351466\n",
      "Tumblr : 334293\n",
      "WhatsApp Messenger : 287589\n",
      "Kik : 260965\n",
      "ooVoo – Free Video Call, Text and Voice : 177501\n",
      "TextNow - Unlimited Text + Calls : 164963\n",
      "Viber Messenger – Text & Call : 164249\n",
      "Followers - Social Analytics For Instagram : 112778\n",
      "MeetMe - Chat and Meet New People : 97072\n"
     ]
    }
   ],
   "source": [
    "print_ios_genre('Social Networking')"
   ]
  },
  {
   "cell_type": "code",
   "execution_count": 266,
   "metadata": {},
   "outputs": [
    {
     "name": "stdout",
     "output_type": "stream",
     "text": [
      "Pandora - Music & Radio : 1126879\n",
      "Spotify Music : 878563\n",
      "Shazam - Discover music, artists, videos & lyrics : 402925\n",
      "iHeartRadio – Free Music & Radio Stations : 293228\n",
      "SoundCloud - Music & Audio : 135744\n",
      "Magic Piano by Smule : 131695\n",
      "Smule Sing! : 119316\n",
      "TuneIn Radio - MLB NBA Audiobooks Podcasts Music : 110420\n",
      "Amazon Music : 106235\n",
      "SoundHound Song Search & Music Player : 82602\n",
      "Sonos Controller : 48905\n",
      "Bandsintown Concerts : 30845\n"
     ]
    }
   ],
   "source": [
    "print_ios_genre('Music')"
   ]
  },
  {
   "cell_type": "markdown",
   "metadata": {},
   "source": [
    "The same applies to **Social Networking** and **Music**, where total ratings are skewed significantly by big players in those spaces such as Facebook and Pinterest, or Pandora and Spotify. These would be tough spaces to compete in, where the big players appear to get the vast majority of users, and the other apps attract a *much* smaller number of ratings overall. "
   ]
  },
  {
   "cell_type": "code",
   "execution_count": 262,
   "metadata": {},
   "outputs": [
    {
     "name": "stdout",
     "output_type": "stream",
     "text": [
      "Bible : 985920\n",
      "Dictionary.com Dictionary & Thesaurus : 200047\n",
      "Dictionary.com Dictionary & Thesaurus for iPad : 54175\n",
      "Google Translate : 26786\n",
      "Muslim Pro: Ramadan 2017 Prayer Times, Azan, Quran : 18418\n",
      "New Furniture Mods - Pocket Wiki & Game Tools for Minecraft PC Edition : 17588\n",
      "Merriam-Webster Dictionary : 16849\n",
      "Night Sky : 12122\n",
      "City Maps for Minecraft PE - The Best Maps for Minecraft Pocket Edition (MCPE) : 8535\n",
      "LUCKY BLOCK MOD ™ for Minecraft PC Edition - The Best Pocket Wiki & Mods Installer Tools : 4693\n",
      "GUNS MODS for Minecraft PC Edition - Mods Tools : 1497\n",
      "Guides for Pokémon GO - Pokemon GO News and Cheats : 826\n"
     ]
    }
   ],
   "source": [
    "print_ios_genre('Reference')"
   ]
  },
  {
   "cell_type": "markdown",
   "metadata": {},
   "source": [
    "The **Reference** genre could be a more viable option. Most ratings are for Bible and Dictionary.com. However, there are very few apps in this genre to compete with overall, and we can imagine use cases for other reference books that wouldn't compete with the ones listed here.\n",
    "\n",
    "Let's keep looking for other genres that may have a more even playing field of competing companies or interesting market opportunities:\n",
    "\n",
    "- **Weather** could be tough. The available apps larger serve similar use cases and are highly specialized.\n",
    "- **Book** doesn't seem to have many ratings overall, with the majority going to 4 popular apps. There could be market opportunity for specific categories of books for users seeking to consume a particular type of material, but that might be more relevant to the Reference genre.\n",
    "- **Food & Drink** seems largely centered around delivery and chain restaurants.\n",
    "- **Finance** seems dominated by the large banks, and a couple other big players in finance tech.\n",
    "- **Photo & Video** is a possibility. The big players Instagram, Snapchat, and Youtube are at the top, but many other apps for a variety of purposes receive plenty of ratings as well. \n",
    "\n",
    "*(Data for these genres can be found in the [appendix](#appendix).)*"
   ]
  },
  {
   "cell_type": "markdown",
   "metadata": {},
   "source": [
    "---\n",
    "#### Part 2: Most Popular Genres on Android\n",
    "\n",
    "To analyze the most popular genres on Android, we can use data on the total number of installs. We hope this might give us a more relevant picture of popularity than using total number of ratings (as we used for iOS)."
   ]
  },
  {
   "cell_type": "code",
   "execution_count": 102,
   "metadata": {},
   "outputs": [
    {
     "name": "stdout",
     "output_type": "stream",
     "text": [
      "1,000,000+ : 15.73\n",
      "100,000+ : 11.55\n",
      "10,000,000+ : 10.55\n",
      "10,000+ : 10.2\n",
      "1,000+ : 8.39\n",
      "100+ : 6.92\n",
      "5,000,000+ : 6.83\n",
      "500,000+ : 5.56\n",
      "50,000+ : 4.77\n",
      "5,000+ : 4.51\n",
      "10+ : 3.54\n",
      "500+ : 3.25\n",
      "50,000,000+ : 2.3\n",
      "100,000,000+ : 2.13\n",
      "50+ : 1.92\n",
      "5+ : 0.79\n",
      "1+ : 0.51\n",
      "500,000,000+ : 0.27\n",
      "1,000,000,000+ : 0.23\n",
      "0+ : 0.05\n"
     ]
    }
   ],
   "source": [
    "display_table(android_final, 5) # Inspect frequency table of the Installs column"
   ]
  },
  {
   "cell_type": "markdown",
   "metadata": {},
   "source": [
    "One challenge with this data is that the total number of installs is imprecise. Each app is categorized with a general range of installs. \n",
    "\n",
    "For our purposes though, we don't necessarily need a precise number to understand general popularity, so this shouldn't be an issue here. We will just use each number as listed to gain a **general understanding of average installs per genre**.\n",
    "\n",
    "Let's build a function to list average number of installs per genre in descending order."
   ]
  },
  {
   "cell_type": "code",
   "execution_count": 121,
   "metadata": {},
   "outputs": [
    {
     "name": "stdout",
     "output_type": "stream",
     "text": [
      "COMMUNICATION : 38456119\n",
      "VIDEO_PLAYERS : 24727872\n",
      "SOCIAL : 23253652\n",
      "PHOTOGRAPHY : 17840110\n",
      "PRODUCTIVITY : 16787331\n",
      "GAME : 15588016\n",
      "TRAVEL_AND_LOCAL : 13984078\n",
      "ENTERTAINMENT : 11640706\n",
      "TOOLS : 10801391\n",
      "NEWS_AND_MAGAZINES : 9549178\n",
      "BOOKS_AND_REFERENCE : 8767812\n",
      "SHOPPING : 7036877\n",
      "PERSONALIZATION : 5201483\n",
      "WEATHER : 5074486\n",
      "HEALTH_AND_FITNESS : 4188822\n",
      "MAPS_AND_NAVIGATION : 4056942\n",
      "FAMILY : 3697848\n",
      "SPORTS : 3638640\n",
      "ART_AND_DESIGN : 1986335\n",
      "FOOD_AND_DRINK : 1924898\n",
      "EDUCATION : 1833495\n",
      "BUSINESS : 1712290\n",
      "LIFESTYLE : 1437816\n",
      "FINANCE : 1387692\n",
      "HOUSE_AND_HOME : 1331541\n",
      "DATING : 854029\n",
      "COMICS : 817657\n",
      "AUTO_AND_VEHICLES : 647318\n",
      "LIBRARIES_AND_DEMO : 638504\n",
      "PARENTING : 542604\n",
      "BEAUTY : 513152\n",
      "EVENTS : 253542\n",
      "MEDICAL : 120551\n"
     ]
    }
   ],
   "source": [
    "android_genres = freq_table(android_final,1) # Get a list of android app genres\n",
    "android_avg_sorted = []\n",
    "\n",
    "# For each android app genre\n",
    "for genre in android_genres:\n",
    "    total = 0\n",
    "    len_genre = 0\n",
    "    \n",
    "    # Store total ratings for each app per genre\n",
    "    for app in android_final:\n",
    "        genre_app = app[1]\n",
    "        if genre_app == genre:\n",
    "            n_installs = app[5]\n",
    "\n",
    "            # Convert number installs to integer\n",
    "            n_installs = n_installs.replace('+','')\n",
    "            n_installs = n_installs.replace(',','')\n",
    "            total += int(n_installs)\n",
    "            \n",
    "            # Count total apps per genre\n",
    "            len_genre += 1 \n",
    "    \n",
    "    # Find average total ratings per app in each genre\n",
    "    android_avg_sorted.append((round(total / len_genre),genre))\n",
    "\n",
    "# Sort averages descending\n",
    "android_avg_sorted = sorted(android_avg_sorted, reverse = True)\n",
    "\n",
    "for value in android_avg_sorted:\n",
    "    print(value[1],':',value[0])"
   ]
  },
  {
   "cell_type": "markdown",
   "metadata": {},
   "source": [
    "This list seems to represent a much broader landscape of viable categories than our iOS list. Let's take a look at the top genres."
   ]
  },
  {
   "cell_type": "code",
   "execution_count": 277,
   "metadata": {},
   "outputs": [
    {
     "name": "stdout",
     "output_type": "stream",
     "text": [
      "WhatsApp Messenger : 1,000,000,000\n",
      "Skype - free IM & video calls : 1,000,000,000\n",
      "Messenger – Text and Video Chat for Free : 1,000,000,000\n",
      "Hangouts : 1,000,000,000\n",
      "Google Chrome: Fast & Secure : 1,000,000,000\n",
      "Gmail : 1,000,000,000\n",
      "imo free video calls and chat : 500,000,000\n",
      "Viber Messenger : 500,000,000\n",
      "UC Browser - Fast Download Private & Secure : 500,000,000\n",
      "LINE: Free Calls & Messages : 500,000,000\n",
      "Google Duo - High Quality Video Calls : 500,000,000\n",
      "imo beta free calls and text : 100,000,000\n"
     ]
    }
   ],
   "source": [
    "# Print top most popular apps in a genre\n",
    "def print_android_genre(genre,results=12):\n",
    "    genre_list = []\n",
    "    \n",
    "    # Create list of each app in genre with num installs\n",
    "    for app in android_final:\n",
    "        if app[1] == genre:\n",
    "            n_installs = app[5]\n",
    "            n_installs = n_installs.replace('+','')\n",
    "            n_installs = n_installs.replace(',','')\n",
    "            genre_list.append((int(n_installs),app[0]))\n",
    "    \n",
    "    # Sort list by num installs\n",
    "    genre_list = sorted(genre_list, reverse=True)\n",
    "    \n",
    "    \n",
    "    for value in genre_list[0:results]:\n",
    "        print(value[1],':',(f'{value[0]:,}')) # format integers with commas\n",
    "            \n",
    "print_android_genre('COMMUNICATION')"
   ]
  },
  {
   "cell_type": "code",
   "execution_count": 259,
   "metadata": {},
   "outputs": [
    {
     "name": "stdout",
     "output_type": "stream",
     "text": [
      "YouTube : 1,000,000,000\n",
      "Google Play Movies & TV : 1,000,000,000\n",
      "MX Player : 500,000,000\n",
      "VivaVideo - Video Editor & Photo Movie : 100,000,000\n",
      "VideoShow-Video Editor, Video Maker, Beauty Camera : 100,000,000\n",
      "VLC for Android : 100,000,000\n",
      "Motorola Gallery : 100,000,000\n",
      "Motorola FM Radio : 100,000,000\n",
      "Dubsmash : 100,000,000\n",
      "Vote for : 50,000,000\n",
      "Vigo Video : 50,000,000\n",
      "VMate : 50,000,000\n"
     ]
    }
   ],
   "source": [
    "print_android_genre('VIDEO_PLAYERS')"
   ]
  },
  {
   "cell_type": "code",
   "execution_count": 260,
   "metadata": {},
   "outputs": [
    {
     "name": "stdout",
     "output_type": "stream",
     "text": [
      "Instagram : 1,000,000,000\n",
      "Google+ : 1,000,000,000\n",
      "Facebook : 1,000,000,000\n",
      "Snapchat : 500,000,000\n",
      "Facebook Lite : 500,000,000\n",
      "VK : 100,000,000\n",
      "Tumblr : 100,000,000\n",
      "Tik Tok - including musical.ly : 100,000,000\n",
      "Tango - Live Video Broadcast : 100,000,000\n",
      "Pinterest : 100,000,000\n",
      "LinkedIn : 100,000,000\n",
      "Badoo - Free Chat & Dating App : 100,000,000\n"
     ]
    }
   ],
   "source": [
    "print_android_genre('SOCIAL')"
   ]
  },
  {
   "cell_type": "markdown",
   "metadata": {},
   "source": [
    "The top 3 categories, **Communications, Video Players, and Social**, seem dominated by some huge players like WhatsApp, Google, and Facebook, skewing the number of installs. These would all be tough spaces to compete in.\n",
    "\n",
    "Let's keep looking through some of the top genres for viable opportunities:\n",
    "- **Photography** has some big players on top, but installs are generally distributed across a variety of apps. The genre is saturated, but there could be space for more photography utility apps. This could be tough without specialized knowledge though.\n",
    "- **Productivity** is largely dominated by Google, Microsoft, Evernote, and a handful of other popular apps.\n",
    "- **Games** is highly saturated, though this could be a viable genre as there are many apps with plenty of installs, and people are always looking for new games to play. Likewise, with the **Family** genre.\n",
    "- **Travel and Local** doesn't appear to have space or interest for apps outside of the big maps or search apps like Google, TripAdvisor, or Yelp.\n",
    "- **Tools** seems to have a wide variety of installs for utility apps that provide a specific function. There could be a space to invent more tools here. \n",
    "\n",
    "\n",
    "*(Data for these genres can be found in the [appendix](#appendix).)*"
   ]
  },
  {
   "cell_type": "markdown",
   "metadata": {},
   "source": [
    "# Conclusion\n",
    "\n",
    "Summarize again our goals from the introduction: \n",
    "\n",
    "In this sample project, we are acting as Data Analysts for mock company Evergreen Apps, LLC. Evergreen Apps builds free Android and iOS apps. Their primary source of revenue is via in-app ads. Therefore, we want to build free apps which will attract the most users with frequent views to produce ad revenue.\n",
    "\n",
    "#### Key Questions & Criteria\n",
    "\n",
    "During our analysis, a few key questions emerged:\n",
    "- Do big players cover most opportunities for the genre?\n",
    "- Are most opportunities for the genre covered by other apps?\n",
    "- Does the genre get a lot of interest from users (i.e. many ratings or installs)?\n",
    "- Does the genre require specialized knowledge that's difficult to acquire?\n",
    "\n",
    "Therefore, to maximize market opportunities for free apps funded by in-app ads, we'll want to consider the following criteria:\n",
    "- We don't want to compete with big players who dominate the market.\n",
    "- We want to avoid genres where opportunities are already covered by other apps, and where really only 1 app of its kind is needed by a user.\n",
    "- We want to find genres that has a lot of broad interest from users.\n",
    "- We want to avoid apps that would require specialized knowledge too expensive or time-consuming to reasonably come up to speed on.\n",
    "\n",
    "#### Genres with Market Opportunities\n",
    "\n",
    "We have identified 3 general categories that meet the  needs of Evergreen Apps, LLC:\n",
    "- Games and family entertainment\n",
    "- Utilities and tools\n",
    "- Books, reference, and education\n",
    "\n",
    "These categories may have some big players in them that cover general use cases, but seem to have plenty of market opportunity for a variety of apps, or for apps which provide specific functions. Users are likely to use many different apps in each of these genres to meet every day needs. While some apps in these genres may have required specialized knowledge to build, that's generally a choice made by the specialist app creators rather than a requirement of the genres themselves.\n",
    "\n",
    "#### Next Steps\n",
    "\n",
    "Next steps would be to explore each of these categories in further detail. There may be benefit in selecting one category to build in for the long run, where each new prototype built may benefit from work completed in previously built prototypes. When exploring each category, we should consider Evergreen Apps' current core competencies, as well as user needs and business goals, to select a category that meets our present knowledge, interests, and financial needs."
   ]
  },
  {
   "cell_type": "markdown",
   "metadata": {},
   "source": [
    "---\n",
    "# Appendix <a id=\"appendix\"></a>\n",
    "\n",
    "## iOS – Most Popular Genres By Total Ratings"
   ]
  },
  {
   "cell_type": "code",
   "execution_count": 184,
   "metadata": {},
   "outputs": [
    {
     "name": "stdout",
     "output_type": "stream",
     "text": [
      "The Weather Channel: Forecast, Radar & Alerts : 495626\n",
      "The Weather Channel App for iPad – best local forecast, radar map, and storm tracking : 208648\n",
      "WeatherBug - Local Weather, Radar, Maps, Alerts : 188583\n",
      "MyRadar NOAA Weather Radar Forecast : 150158\n",
      "AccuWeather - Weather for Life : 144214\n",
      "Yahoo Weather : 112603\n",
      "Weather Underground: Custom Forecast & Local Radar : 49192\n",
      "NOAA Weather Radar - Weather Forecast & HD Radar : 45696\n",
      "Weather Live Free - Weather Forecast & Alerts : 35702\n",
      "Storm Radar : 22792\n",
      "QuakeFeed Earthquake Map, Alerts, and News : 6081\n",
      "Moji Weather - Free Weather Forecast : 2333\n"
     ]
    }
   ],
   "source": [
    "print_ios_genre('Weather')"
   ]
  },
  {
   "cell_type": "code",
   "execution_count": 91,
   "metadata": {},
   "outputs": [
    {
     "name": "stdout",
     "output_type": "stream",
     "text": [
      "Kindle – Read eBooks, Magazines & Textbooks : 252076\n",
      "Audible – audio books, original series & podcasts : 105274\n",
      "Color Therapy Adult Coloring Book for Adults : 84062\n",
      "OverDrive – Library eBooks and Audiobooks : 65450\n",
      "HOOKED - Chat Stories : 47829\n",
      "BookShout: Read eBooks & Track Your Reading Goals : 879\n",
      "Dr. Seuss Treasury — 50 best kids books : 451\n",
      "Green Riding Hood : 392\n",
      "Weirdwood Manor : 197\n",
      "MangaZERO - comic reader : 9\n",
      "ikouhoushi : 0\n",
      "MangaTiara - love comic reader : 0\n"
     ]
    }
   ],
   "source": [
    "print_ios_genre('Book')"
   ]
  },
  {
   "cell_type": "code",
   "execution_count": 97,
   "metadata": {},
   "outputs": [
    {
     "name": "stdout",
     "output_type": "stream",
     "text": [
      "Starbucks : 303856\n",
      "Domino's Pizza USA : 258624\n",
      "OpenTable - Restaurant Reservations : 113936\n",
      "Allrecipes Dinner Spinner : 109349\n",
      "DoorDash - Food Delivery : 25947\n",
      "UberEATS: Uber for Food Delivery : 17865\n",
      "Postmates - Food Delivery, Faster : 9519\n",
      "Dunkin' Donuts - Get Offers, Coupons & Rewards : 9068\n",
      "Chick-fil-A : 5665\n",
      "McDonald's : 4050\n",
      "Deliveroo: Restaurant Delivery - Order Food Nearby : 1702\n",
      "SONIC Drive-In : 1645\n"
     ]
    }
   ],
   "source": [
    "print_ios_genre('Food & Drink')"
   ]
  },
  {
   "cell_type": "code",
   "execution_count": 204,
   "metadata": {},
   "outputs": [
    {
     "name": "stdout",
     "output_type": "stream",
     "text": [
      "Chase Mobile℠ : 233270\n",
      "Mint: Personal Finance, Budget, Bills & Money : 232940\n",
      "Bank of America - Mobile Banking : 119773\n",
      "PayPal - Send and request money safely : 119487\n",
      "Credit Karma: Free Credit Scores, Reports & Alerts : 101679\n",
      "Capital One Mobile : 56110\n",
      "Citi Mobile® : 48822\n",
      "Wells Fargo Mobile : 43064\n",
      "Chase Mobile : 34322\n",
      "Square Cash - Send Money for Free : 23775\n",
      "Capital One for iPad : 21858\n",
      "Venmo : 21090\n",
      "USAA Mobile : 19946\n",
      "TaxCaster – Free tax refund calculator : 17516\n",
      "Amex Mobile : 11421\n",
      "TurboTax Tax Return App - File 2016 income taxes : 9635\n",
      "Bank of America - Mobile Banking for iPad : 7569\n",
      "Wells Fargo for iPad : 2207\n",
      "Stash Invest: Investing & Financial Education : 1655\n",
      "Digit: Save Money Without Thinking About It : 1506\n"
     ]
    }
   ],
   "source": [
    "print_ios_genre('Finance',20)"
   ]
  },
  {
   "cell_type": "code",
   "execution_count": 267,
   "metadata": {},
   "outputs": [
    {
     "name": "stdout",
     "output_type": "stream",
     "text": [
      "Instagram : 2161558\n",
      "Snapchat : 323905\n",
      "YouTube - Watch Videos, Music, and Live Streams : 278166\n",
      "Pic Collage - Picture Editor & Photo Collage Maker : 123433\n",
      "Funimate video editor: add cool effects to videos : 123268\n",
      "musical.ly - your video social network : 105429\n",
      "Photo Collage Maker & Photo Editor - Live Collage : 93781\n",
      "Vine Camera : 90355\n",
      "Google Photos - unlimited photo and video storage : 88742\n",
      "Flipagram : 79905\n",
      "Mixgram - Picture Collage Maker - Pic Photo Editor : 54282\n",
      "Shutterfly: Prints, Photo Books, Cards Made Easy : 51427\n",
      "Pic Jointer – Photo Collage, Camera Effects Editor : 51330\n",
      "Color Pop Effects - Photo Editor & Picture Editing : 45320\n",
      "Photo Grid - photo collage maker & photo editor : 40531\n",
      "iSwap Faces LITE : 39722\n",
      "MOLDIV - Photo Editor, Collage & Beauty Camera : 39501\n",
      "Photo Editor by Aviary : 39501\n",
      "Photo Lab: Picture Editor, effects & fun face app : 34585\n",
      "Rookie Cam - Photo Editor & Filter Camera : 33921\n",
      "FotoRus -Camera & Photo Editor & Pic Collage Maker : 32558\n",
      "PicsArt Photo Studio: Collage Maker & Pic Editor : 29078\n",
      "Quik – GoPro Video Editor to edit clips with music : 28654\n",
      "Splice - Video Editor + Movie Maker by GoPro : 28189\n",
      "FreePrints – Photos Delivered : 26060\n",
      "Triller - Music Video & Film Maker : 25683\n",
      "Ghost Lens+Scary Photo Video Edit&Collage Maker : 18316\n",
      "Camera360 - Selfie Filter Camera, Photo Editor : 16729\n",
      "InstaMag - Free Pic and Photo Collage Maker : 16221\n",
      "Over— Edit Photos, Add Text & Captions to Pictures : 16221\n"
     ]
    }
   ],
   "source": [
    "print_ios_genre('Photo & Video',30)"
   ]
  },
  {
   "cell_type": "code",
   "execution_count": 210,
   "metadata": {},
   "outputs": [
    {
     "name": "stdout",
     "output_type": "stream",
     "text": [
      "Google Earth : 446185\n",
      "Yelp - Nearby Restaurants, Shopping & Services : 223885\n",
      "GasBuddy : 145549\n",
      "TripAdvisor Hotels Flights Restaurants : 56194\n",
      "Uber : 49466\n",
      "Lyft : 46922\n",
      "HotelTonight - Great Deals on Last Minute Hotels : 32341\n",
      "Hotels & Vacation Rentals by Booking.com : 31261\n",
      "Southwest Airlines : 30552\n",
      "Airbnb : 22302\n",
      "Expedia Hotels, Flights & Vacation Package Deals : 10278\n",
      "Fly Delta : 8094\n"
     ]
    }
   ],
   "source": [
    "print_ios_genre('Travel')"
   ]
  },
  {
   "cell_type": "code",
   "execution_count": 213,
   "metadata": {},
   "outputs": [
    {
     "name": "stdout",
     "output_type": "stream",
     "text": [
      "Groupon - Deals, Coupons & Discount Shopping App : 417779\n",
      "eBay: Best App to Buy, Sell, Save! Online Shopping : 262241\n",
      "Wish - Shopping Made Fun : 141960\n",
      "shopkick - Shopping Rewards & Discounts : 130823\n",
      "Amazon App: shop, scan, compare, and read reviews : 126312\n",
      "Target : 108131\n",
      "Zappos: shop shoes & clothes, fast free shipping : 103655\n",
      "Walgreens – Pharmacy, Photo, Coupons and Shopping : 88885\n",
      "Best Buy : 80424\n",
      "Walmart: Free 2-Day Shipping,* Easy Store Shopping : 70286\n",
      "OfferUp - Buy. Sell. Simple. : 57348\n",
      "Apple Store : 55171\n",
      "Shop Savvy Barcode Scanner - Price Compare & Deals : 54630\n",
      "Ibotta: Cash Back App, Grocery Coupons & Shopping : 44313\n",
      "letgo: Buy & Sell Second Hand Stuff : 38424\n",
      "CVS Pharmacy : 35981\n",
      "Victoria’s Secret – The Sexiest Bras & Lingerie : 34507\n",
      "Etsy: Shop Handmade, Vintage & Creative Goods : 30434\n",
      "Gilt : 26353\n",
      "Mercari: Shopping Marketplace to Buy & Sell Stuff : 24244\n",
      "Shopular Coupons, Weekly Deals for Target, Walmart : 22729\n",
      "RetailMeNot Shopping Deals, Coupons, Savings : 18544\n",
      "Poshmark: Buy & Sell Fashion : 18035\n",
      "Whole Foods Market : 17906\n",
      "5miles: Buy and Sell Used Stuff Locally : 16105\n",
      "Sephora Makeup & Beauty App – Insider Tips & Style : 15593\n",
      "Cartwheel by Target : 14682\n",
      "SHEIN Shopping - Women's Clothing & Fashion : 12663\n",
      "Ebates: Cash Back, Coupons & Rebate Shopping App : 12617\n",
      "Wayfair - Shop Furniture, Home Decor, Daily Sales : 12578\n"
     ]
    }
   ],
   "source": [
    "print_ios_genre('Shopping',30)"
   ]
  },
  {
   "cell_type": "code",
   "execution_count": 215,
   "metadata": {},
   "outputs": [
    {
     "name": "stdout",
     "output_type": "stream",
     "text": [
      "Calorie Counter & Diet Tracker by MyFitnessPal : 507706\n",
      "Lose It! – Weight Loss Program and Calorie Counter : 373835\n",
      "Weight Watchers : 136833\n",
      "Sleep Cycle alarm clock : 104539\n",
      "Fitbit : 90496\n",
      "Period Tracker Lite : 53620\n",
      "Nike+ Training Club - Workouts & Fitness Plans : 33969\n",
      "Plant Nanny - Water Reminder with Cute Plants : 27421\n",
      "Sworkit - Custom Workouts for Exercise & Fitness : 16819\n",
      "Clue Period Tracker: Period & Ovulation Tracker : 13436\n",
      "Headspace : 12819\n",
      "Fooducate - Lose Weight, Eat Healthy,Get Motivated : 11875\n",
      "Runtastic Running, Jogging and Walking Tracker : 10298\n",
      "WebMD for iPad : 9142\n",
      "8fit - Workouts, meal plans and personal trainer : 8730\n",
      "Garmin Connect™ Mobile : 8341\n",
      "Record by Under Armour, connects with UA HealthBox : 7754\n",
      "Fitstar Personal Trainer : 7496\n",
      "My Cycles Period and Ovulation Tracker : 7469\n",
      "Seven - 7 Minute Workout Training Challenge : 6808\n"
     ]
    }
   ],
   "source": [
    "print_ios_genre('Health & Fitness',20)"
   ]
  },
  {
   "cell_type": "code",
   "execution_count": 268,
   "metadata": {},
   "outputs": [
    {
     "name": "stdout",
     "output_type": "stream",
     "text": [
      "ESPN: Get scores, news, alerts & watch live sports : 290996\n",
      "Yahoo Fantasy Sports : 190670\n",
      "WatchESPN : 159735\n",
      "The Masters Tournament : 148160\n",
      "Yahoo Sports - Teams, Scores, News & Highlights : 137951\n",
      "ESPN Fantasy Football Baseball Basketball Hockey : 64925\n",
      "CBS Sports App - Sports Scores, News, Stats, Watch : 59639\n",
      "FOX Sports Mobile : 57500\n",
      "2016 U.S. Open Golf Championship : 54192\n",
      "NBC Sports : 47172\n",
      "NBA : 43682\n",
      "ESPN Tournament Challenge : 39642\n",
      "2016 US Open Tennis Championships : 37522\n",
      "NFL : 27317\n",
      "MLB.com At Bat : 21830\n",
      "The Championships, Wimbledon 2016 - Tennis Grand Slam : 20953\n",
      "DraftKings - Daily Fantasy Golf, Baseball, & More : 20251\n",
      "Bleacher Report: Sports news, scores, & highlights : 16979\n",
      "Univision Deportes: Liga MX, MLS, Fútbol En Vivo : 16683\n",
      "NASCAR MOBILE : 16385\n",
      "NHL : 15554\n",
      "FOX Sports GO : 13898\n",
      "NCAA March Madness Live - Men's College Basketball : 13572\n",
      "PGA Championship 2016 – Baltusrol Golf Club : 10472\n",
      "365Scores : 9879\n",
      "NFL Fantasy Football - Official NFL Fantasy App : 8234\n",
      "FanDuel - Daily Fantasy Baseball, Golf & Sports : 8014\n",
      "GolfNow – Book Tee Times, Golf GPS, Scorecard : 7535\n",
      "Ryder Cup 2016 – Hazeltine National Golf Club : 3818\n",
      "Onefootball - Soccer Scores & Live News : 3194\n"
     ]
    }
   ],
   "source": [
    "print_ios_genre('Sports',30)"
   ]
  },
  {
   "cell_type": "code",
   "execution_count": 270,
   "metadata": {},
   "outputs": [
    {
     "name": "stdout",
     "output_type": "stream",
     "text": [
      "Clash of Clans : 2130805\n",
      "Temple Run : 1724546\n",
      "Candy Crush Saga : 961794\n",
      "Angry Birds : 824451\n",
      "Subway Surfers : 706110\n",
      "Solitaire : 679055\n",
      "CSR Racing : 677247\n",
      "Crossy Road - Endless Arcade Hopper : 669079\n",
      "Injustice: Gods Among Us : 612532\n",
      "Hay Day : 567344\n",
      "PAC-MAN : 508808\n",
      "DragonVale : 503230\n",
      "Head Soccer : 481564\n",
      "Despicable Me: Minion Rush : 464312\n",
      "The Sims™ FreePlay : 446880\n",
      "Sonic Dash : 418033\n",
      "8 Ball Pool™ : 416736\n",
      "Tiny Tower - Free City Building : 414803\n",
      "Jetpack Joyride : 405647\n",
      "Bike Race - Top Motorcycle Racing Games : 405007\n",
      "Kim Kardashian: Hollywood : 397730\n",
      "Trivia Crack : 393469\n",
      "WordBrain : 391401\n",
      "Sniper 3D Assassin: Shoot to Kill Gun Game : 386521\n",
      "Flow Free : 373857\n",
      "Geometry Dash Lite : 370370\n",
      "▻Sudoku : 359832\n",
      "Fruit Ninja® : 327025\n",
      "Pixel Gun 3D : 301182\n",
      "Temple Run 2 : 295211\n",
      "My Horse : 293857\n",
      "Word Cookies! : 287095\n",
      "Dragon City Mobile : 277268\n",
      "The Simpsons™: Tapped Out : 274501\n",
      "Plants vs. Zombies™ 2 : 267394\n",
      "Clash Royale : 266921\n",
      "Pokémon GO : 257627\n",
      "CSR Racing 2 : 257100\n",
      "Star Wars™: Commander : 253448\n",
      "Boom Beach : 241929\n",
      "MARVEL Contest of Champions : 233599\n",
      "MADDEN NFL Mobile : 230289\n",
      "Bejeweled Blitz : 221002\n",
      "Can You Escape : 218024\n",
      "Fallout Shelter : 199396\n",
      "SimCity BuildIt : 198338\n",
      "Real Basketball : 198050\n",
      "Asphalt 8: Airborne : 188568\n",
      "Magic Jigsaw Puzzles : 187666\n",
      "Farm Heroes Saga : 187579\n",
      "Beer Pong Game : 187315\n",
      "Glow Hockey 2 FREE : 186653\n",
      "Pictoword: Fun 2 Pics Guess What's the Word Trivia : 186089\n",
      "ROBLOX : 183621\n",
      "Bejeweled Classic : 183259\n",
      "Daily Celebrity Crossword : 181384\n",
      "AdVenture Capitalist : 181359\n",
      "Blackjack by MobilityWare : 180087\n",
      "Call of Duty®: Heroes : 179416\n",
      "Deer Hunter Classic : 179111\n",
      "Agar.io : 176514\n",
      "Piano Tiles (Don't Tap The White Tile) : 172686\n",
      "Angry Birds Rio : 170843\n",
      "The Secret Society® - Hidden Mystery : 168674\n",
      "Real Racing 3 : 164483\n",
      "Highway Rider : 164377\n",
      "Words with Friends – Best Word Game : 160668\n",
      "Bowmasters - Top Multiplayer Bowman Archery Game : 159323\n",
      "aa : 158845\n",
      "2048 : 157882\n",
      "Episode - Choose Your Story : 155903\n",
      "Dumb Ways to Die : 151559\n",
      "Jurassic World™: The Game : 149138\n",
      "Color Switch : 145043\n",
      "Iron Force : 141634\n",
      "Racing Penguin Free - Top Flying and Diving Game : 141224\n",
      "Two Dots : 139486\n",
      "Jigsaw Puzzle : 138726\n",
      "Summoners War : 137122\n",
      "Sniper Shooter: Gun Shooting Games : 134080\n",
      "Candy Crush Soda Saga : 133394\n",
      "My Singing Monsters : 130519\n",
      "Spider Solitaire Free by MobilityWare : 128739\n",
      "Smash Hit : 126233\n",
      "▻Solitaire : 124618\n",
      "My Talking Tom : 123859\n",
      "Clumsy Ninja : 123032\n",
      "Tetris® Blitz : 122868\n",
      "Star Wars™: Galaxy of Heroes : 122260\n",
      "Bubble Mania™ : 122081\n",
      "Geometry Dash Meltdown : 117470\n",
      "Beat the Boss 2 : 117338\n",
      "Village Life: Love, Marriage and Babies : 116620\n",
      "MORTAL KOMBAT X : 114475\n",
      "Sky Burger - Build & Match Food Free : 114096\n",
      "Big Fish Casino – Best Vegas Slot Machines & Games : 113959\n",
      "Monster Legends RPG - War, Fight & Heroes Game : 111579\n",
      "Fairway Solitaire Blast : 110062\n",
      "Angry Birds 2 : 109104\n",
      "Hill Climb Racing : 108183\n"
     ]
    }
   ],
   "source": [
    "print_ios_genre('Games',100)"
   ]
  },
  {
   "cell_type": "code",
   "execution_count": 221,
   "metadata": {},
   "outputs": [
    {
     "name": "stdout",
     "output_type": "stream",
     "text": [
      "Twitter : 354058\n",
      "Fox News : 132703\n",
      "CNN: Breaking US & World News, Live Video : 112886\n",
      "Reddit Official App: All That's Trending and Viral : 67560\n",
      "USA TODAY : 61724\n",
      "ABC News - US & World News + Live Video : 48407\n",
      "NBC News : 32881\n",
      "HuffPost - News, Politics & Entertainment : 29107\n",
      "The Washington Post Classic : 18572\n",
      "WIRED Magazine : 12074\n",
      "CBS News - Watch Free Live Breaking News : 11691\n",
      "The Guardian : 8176\n"
     ]
    }
   ],
   "source": [
    "print_ios_genre('News')"
   ]
  },
  {
   "cell_type": "code",
   "execution_count": 271,
   "metadata": {},
   "outputs": [
    {
     "name": "stdout",
     "output_type": "stream",
     "text": [
      "Evernote - stay organized : 161065\n",
      "Gmail - email by Google: secure, fast & organized : 135962\n",
      "iTranslate - Language Translator & Dictionary : 123215\n",
      "Yahoo Mail - Keeps You Organized! : 113709\n",
      "Google Docs : 64259\n",
      "Google Drive - free online storage : 59255\n",
      "Dropbox : 49578\n",
      "Microsoft Word : 47999\n",
      "Microsoft OneNote : 39638\n",
      "Microsoft Outlook - email and calendar : 32807\n",
      "Hotspot Shield Free VPN Proxy & Wi-Fi Privacy : 32499\n",
      "Documents 6 - File manager, PDF reader and browser : 29110\n",
      "Google Sheets : 24602\n",
      "Microsoft Excel : 24430\n",
      "Inbox by Gmail : 21561\n",
      "T-Mobile : 19977\n",
      "Paper by FiftyThree - Sketch, Diagram, Take Notes : 18219\n",
      "MyScript Calculator - Handwriting calculator : 16555\n",
      "VPN Proxy Master - Unlimited WiFi security VPN : 13674\n",
      "Microsoft OneDrive – File & photo cloud storage : 12797\n",
      "Ever - Capture Your Memories : 12755\n",
      "Speak & Translate － Voice and Text Translator : 12062\n",
      "Tayasui Sketches : 11505\n",
      "Drawing Desk - Draw, Paint, Doodle & Sketch board : 11040\n",
      "Microsoft PowerPoint : 10939\n",
      "Email - Fast & Secure mail for Gmail iCloud Yahoo : 10778\n",
      "Google Slides : 9920\n",
      "HP All-in-One Printer Remote : 9819\n",
      "Google Calendar – Make the most of every day : 7656\n",
      "Verizon Cloud : 6482\n"
     ]
    }
   ],
   "source": [
    "print_ios_genre('Productivity',30)"
   ]
  },
  {
   "cell_type": "code",
   "execution_count": 225,
   "metadata": {},
   "outputs": [
    {
     "name": "stdout",
     "output_type": "stream",
     "text": [
      "Google – Search made just for mobile : 479440\n",
      "Flashlight Ⓞ : 130450\n",
      "My Verizon : 126948\n",
      "myAT&T : 108507\n",
      "The Calculator - Free and Easy Calculating! : 99244\n",
      "Speedtest by Ookla : 65016\n",
      "Google Chrome – The Fast and Secure Web Browser : 55750\n",
      "Alarm Clock HD Free - Digital Alarm Clock Display : 54496\n",
      "Calculator Pro for iPad Free - Smart Calculator : 47803\n",
      "Bitmoji - Your Personal Emoji : 37972\n",
      "Calculator‰ : 36879\n",
      "Flashlight ！ : 35769\n",
      "Truecaller - Spam Identification & Block : 27791\n",
      "Browser and File Manager for Documents : 27750\n",
      "Flashlight for iPhone , iPod and iPad : 26697\n",
      "RainbowKey - Color keyboard themes, fonts & GIF : 23063\n",
      "Calculator HD Free : 14986\n",
      "QR Reader for iPhone : 12683\n",
      "Puffin Web Browser : 11677\n",
      "Evolution Calculator - CP & XP - for Pokemon GO! : 9269\n"
     ]
    }
   ],
   "source": [
    "print_ios_genre('Utilities',20)"
   ]
  },
  {
   "cell_type": "code",
   "execution_count": 226,
   "metadata": {},
   "outputs": [
    {
     "name": "stdout",
     "output_type": "stream",
     "text": [
      "Zillow Real Estate - Homes for Sale & for Rent : 342969\n",
      "Tinder : 143040\n",
      "Text Free: Free Texting + Calling + MMS : 100477\n",
      "Countdown‼ (Event Reminders and Timer) : 60490\n",
      "PINK Nation : 49816\n",
      "happn — Dating app — Find and meet your crush : 20546\n",
      "Perfect365 - Custom makeup designs and beauty tips : 19540\n",
      "ipsy - Makeup, subscription and beauty tips : 17489\n",
      "cute icon&wallpaper dressup - CocoPPa : 12508\n",
      "Bumble – Find a Date, Meet Friends & Network : 10109\n",
      "IKEA Catalog : 8939\n",
      "Monogram - Wallpaper & Backgrounds Maker HD DIY with Glitter Themes : 7427\n"
     ]
    }
   ],
   "source": [
    "print_ios_genre('Lifestyle')"
   ]
  },
  {
   "cell_type": "code",
   "execution_count": 229,
   "metadata": {},
   "outputs": [
    {
     "name": "stdout",
     "output_type": "stream",
     "text": [
      "Netflix : 308844\n",
      "Fandango Movies - Times + Tickets : 291787\n",
      "Colorfy: Coloring Book for Adults : 247809\n",
      "IMDb Movies & TV - Trailers and Showtimes : 183425\n",
      "TRUTH or DARE!!! - FREE : 171055\n",
      "Mad Libs : 117889\n",
      "Twitch : 109549\n",
      "Action Movie FX : 101222\n",
      "Voice Changer Plus : 98777\n",
      "iFunny :) : 98344\n",
      "The CW : 97368\n",
      "The Moron Test : 88613\n",
      "DIRECTV : 81006\n",
      "ABC – Watch Live TV & Stream Full Episodes : 78890\n",
      "Xbox : 72187\n",
      "Redbox : 60236\n",
      "Talking Tom Cat 2 for iPad : 56399\n",
      "Hulu: Watch TV Shows & Stream the Latest Movies : 56170\n",
      "NBC – Watch Now and Stream Full TV Episodes : 55950\n",
      "Emoji> : 55338\n",
      "DIRECTV App for iPad : 47506\n",
      "Amazon Prime Video : 43667\n",
      "CBS Full Episodes and Live TV : 39436\n",
      "FOX NOW - Watch Full Episodes and Stream Live TV : 39391\n",
      "Talking Angela for iPad : 32763\n",
      "Recolor - Coloring Book : 31180\n",
      "Talking Ben the Dog for iPad : 31116\n",
      "Talking Tom Cat for iPad : 29492\n",
      "YouTube Kids : 28560\n",
      "Tom's Love Letters : 27711\n"
     ]
    }
   ],
   "source": [
    "print_ios_genre('Entertainment',30)"
   ]
  },
  {
   "cell_type": "code",
   "execution_count": 230,
   "metadata": {},
   "outputs": [
    {
     "name": "stdout",
     "output_type": "stream",
     "text": [
      "Indeed Job Search : 38681\n",
      "Flashlight ◎ : 24744\n",
      "Adobe Acrobat Reader: View, Create, & Convert PDFs : 20069\n",
      "Scanner App - PDF Document Scan : 11696\n",
      "SayHi Translate : 8623\n",
      "ADP Mobile Solutions : 8324\n",
      "Sideline - 2nd Phone Number : 7907\n",
      "Uber Driver : 3289\n",
      "AirWatch Agent : 1150\n",
      "VPN Go - Safe Fast & Stable VPN Proxy : 881\n",
      "Cisco AnyConnect : 825\n",
      "GreenVPN - Free & fast VPN with unlimited traffic : 464\n"
     ]
    }
   ],
   "source": [
    "print_ios_genre('Business')"
   ]
  },
  {
   "cell_type": "code",
   "execution_count": 232,
   "metadata": {},
   "outputs": [
    {
     "name": "stdout",
     "output_type": "stream",
     "text": [
      "Duolingo - Learn Spanish, French and more : 162701\n",
      "Guess My Age  Math Magic : 123190\n",
      "Lumosity - Brain Training : 96534\n",
      "Elevate - Brain Training and Games : 58092\n",
      "Fit Brains Trainer : 46363\n",
      "ClassDojo : 35440\n",
      "Memrise: learn languages : 20383\n",
      "Peak - Brain Training : 20322\n",
      "Canvas by Instructure : 19981\n",
      "ABCmouse.com - Early Learning Academy : 18749\n",
      "Quizlet: Study Flashcards, Languages & Vocabulary : 16683\n",
      "Photomath - Camera Calculator : 16523\n",
      "iTunes U : 15801\n",
      "Blackboard Mobile Learn™ : 13567\n",
      "Star Chart : 13482\n",
      "Remind: Fast, Efficient School Messaging : 9796\n",
      "PBS KIDS Video : 8651\n",
      "Toca Kitchen Monsters : 8062\n",
      "Toca Hair Salon - Christmas Gift : 8049\n",
      "Edmodo : 7197\n"
     ]
    }
   ],
   "source": [
    "print_ios_genre('Education',20)"
   ]
  },
  {
   "cell_type": "code",
   "execution_count": 233,
   "metadata": {},
   "outputs": [
    {
     "name": "stdout",
     "output_type": "stream",
     "text": [
      "CPlus for Craigslist app - mobile classifieds : 13345\n",
      "DRAGONS MODS FREE for Minecraft PC Game Edition : 2027\n",
      "Face Swap and Copy Free – Switch & Fusion Faces in a Photo : 431\n",
      "Ringtone Remixes - Marimba Remix Ringtones : 213\n"
     ]
    }
   ],
   "source": [
    "print_ios_genre('Catalogs')"
   ]
  },
  {
   "cell_type": "code",
   "execution_count": 234,
   "metadata": {},
   "outputs": [
    {
     "name": "stdout",
     "output_type": "stream",
     "text": [
      "SnoreLab : Record Your Snoring : 1341\n",
      "Blink Health : 1198\n",
      "Complete Anatomy : 1104\n",
      "MyDx One: Find a Strain that Works for You : 29\n",
      "iSleeping by iSommeil SARL : 0\n",
      "Malodo : Stop au mal de dos : 0\n"
     ]
    }
   ],
   "source": [
    "print_ios_genre('Medical')"
   ]
  },
  {
   "cell_type": "markdown",
   "metadata": {},
   "source": [
    "## Android – Most Popular Genres By Total Installs"
   ]
  },
  {
   "cell_type": "code",
   "execution_count": 272,
   "metadata": {},
   "outputs": [
    {
     "name": "stdout",
     "output_type": "stream",
     "text": [
      "Google Photos : 1,000,000,000\n",
      "Z Camera - Photo Editor, Beauty Selfie, Collage : 100,000,000\n",
      "YouCam Perfect - Selfie Photo Editor : 100,000,000\n",
      "YouCam Makeup - Magic Selfie Makeovers : 100,000,000\n",
      "Sweet Selfie - selfie camera, beauty cam, photo edit : 100,000,000\n",
      "S Photo Editor - Collage Maker , Photo Collage : 100,000,000\n",
      "Retrica : 100,000,000\n",
      "PicsArt Photo Studio: Collage Maker & Pic Editor : 100,000,000\n",
      "PhotoGrid: Video & Pic Collage Maker, Photo Editor : 100,000,000\n",
      "Photo Editor Pro : 100,000,000\n",
      "Photo Editor Collage Maker Pro : 100,000,000\n",
      "Photo Collage Editor : 100,000,000\n",
      "LINE Camera - Photo editor : 100,000,000\n",
      "Cymera Camera- Photo Editor, Filter,Collage,Layout : 100,000,000\n",
      "Candy Camera - selfie, beauty camera, photo editor : 100,000,000\n",
      "Camera360: Selfie Photo Editor with Funny Sticker : 100,000,000\n",
      "BeautyPlus - Easy Photo Editor & Selfie Camera : 100,000,000\n",
      "B612 - Beauty & Filter Camera : 100,000,000\n",
      "AR effect : 100,000,000\n",
      "Video Editor Music,Cut,No Crop : 50,000,000\n",
      "VSCO : 50,000,000\n",
      "Square InPic - Photo Editor & Collage Maker : 50,000,000\n",
      "Snapseed : 50,000,000\n",
      "Selfie Camera - Photo Editor & Filter & Sticker : 50,000,000\n",
      "SNOW - AR Camera : 50,000,000\n",
      "Pixlr – Free Photo Editor : 50,000,000\n",
      "Pic Collage - Photo Editor : 50,000,000\n",
      "PhotoWonder: Pro Beauty Photo Editor Collage Maker : 50,000,000\n",
      "Photo Lab Picture Editor: face effects, art frames : 50,000,000\n",
      "Photo Effects Pro : 50,000,000\n",
      "Photo Editor by Aviary : 50,000,000\n",
      "Photo Editor Selfie Camera Filter & Mirror Image : 50,000,000\n",
      "Motorola Camera : 50,000,000\n",
      "MomentCam Cartoons & Stickers : 50,000,000\n",
      "MakeupPlus - Your Own Virtual Makeup Artist : 50,000,000\n",
      "Keepsafe Photo Vault: Hide Private Photos & Videos : 50,000,000\n",
      "InstaSize Photo Filters & Collage Editor : 50,000,000\n",
      "InstaBeauty -Makeup Selfie Cam : 50,000,000\n",
      "Boomerang from Instagram : 50,000,000\n",
      "Adobe Photoshop Express:Photo Editor Collage Maker : 50,000,000\n"
     ]
    }
   ],
   "source": [
    "print_android_genre('PHOTOGRAPHY',40)"
   ]
  },
  {
   "cell_type": "code",
   "execution_count": 273,
   "metadata": {},
   "outputs": [
    {
     "name": "stdout",
     "output_type": "stream",
     "text": [
      "Google Drive : 1,000,000,000\n",
      "Microsoft Word : 500,000,000\n",
      "Google Calendar : 500,000,000\n",
      "Dropbox : 500,000,000\n",
      "Cloud Print : 500,000,000\n",
      "WPS Office - Word, Docs, PDF, Note, Slide & Sheet : 100,000,000\n",
      "SwiftKey Keyboard : 100,000,000\n",
      "Samsung Notes : 100,000,000\n",
      "Microsoft PowerPoint : 100,000,000\n",
      "Microsoft Outlook : 100,000,000\n",
      "Microsoft OneNote : 100,000,000\n",
      "Microsoft OneDrive : 100,000,000\n",
      "Microsoft Excel : 100,000,000\n",
      "Google Slides : 100,000,000\n",
      "Google Sheets : 100,000,000\n",
      "Google Keep : 100,000,000\n",
      "Google Docs : 100,000,000\n",
      "Evernote – Organizer, Planner for Notes & Memos : 100,000,000\n",
      "ES File Explorer File Manager : 100,000,000\n",
      "ColorNote Notepad Notes : 100,000,000\n",
      "CamScanner - Phone PDF Creator : 100,000,000\n",
      "Adobe Acrobat Reader : 100,000,000\n",
      "myAT&T : 50,000,000\n",
      "Verizon Cloud : 50,000,000\n",
      "QR Droid : 50,000,000\n",
      "My Airtel-Online Recharge, Pay Bill, Wallet, UPI : 50,000,000\n",
      "Mobizen Screen Recorder - Record, Capture, Edit : 50,000,000\n",
      "MEGA : 50,000,000\n",
      "File Browser by Astro (File Manager) : 50,000,000\n",
      "Do It Later: Tasks & To-Dos : 50,000,000\n",
      "Calculator - unit converter : 50,000,000\n",
      "Alarm Clock: Stopwatch & Timer : 50,000,000\n",
      "Advanced Task Killer : 50,000,000\n",
      "iTranslate Translator & Dictionary : 10,000,000\n",
      "aCalendar - Android Phone : 10,000,000\n",
      "Wunderlist: To-Do List & Tasks : 10,000,000\n",
      "U+Box : 10,000,000\n",
      "Todoist: To-do lists for task management & errands : 10,000,000\n",
      "S Note : 10,000,000\n",
      "QR Scanner & Barcode Scanner 2018 : 10,000,000\n"
     ]
    }
   ],
   "source": [
    "print_android_genre('PRODUCTIVITY',40)"
   ]
  },
  {
   "cell_type": "code",
   "execution_count": 193,
   "metadata": {},
   "outputs": [
    {
     "name": "stdout",
     "output_type": "stream",
     "text": [
      "Subway Surfers : 1,000,000,000\n",
      "Temple Run 2 : 500,000,000\n",
      "Pou : 500,000,000\n",
      "My Talking Tom : 500,000,000\n",
      "Candy Crush Saga : 500,000,000\n",
      "slither.io : 100,000,000\n",
      "Zombie Tsunami : 100,000,000\n",
      "Yes day : 100,000,000\n",
      "Vector : 100,000,000\n",
      "Trivia Crack : 100,000,000\n",
      "Traffic Racer : 100,000,000\n",
      "Temple Run : 100,000,000\n",
      "Talking Tom Gold Run : 100,000,000\n",
      "Super Mario Run : 100,000,000\n",
      "Sonic Dash : 100,000,000\n",
      "Sniper 3D Gun Shooter: Free Shooting Games - FPS : 100,000,000\n",
      "Smash Hit : 100,000,000\n",
      "Skater Boy : 100,000,000\n",
      "Shadow Fight 2 : 100,000,000\n",
      "Score! Hero : 100,000,000\n",
      "Roll the Ball® - slide puzzle : 100,000,000\n",
      "Pokémon GO : 100,000,000\n",
      "Plants vs. Zombies FREE : 100,000,000\n",
      "Piano Tiles 2™ : 100,000,000\n",
      "PAC-MAN : 100,000,000\n",
      "My Talking Angela : 100,000,000\n",
      "Modern Combat 5: eSports FPS : 100,000,000\n",
      "Mobile Legends: Bang Bang : 100,000,000\n",
      "Lep's World 2 🍀🍀 : 100,000,000\n",
      "Jetpack Joyride : 100,000,000\n",
      "Hungry Shark Evolution : 100,000,000\n",
      "Hill Climb Racing 2 : 100,000,000\n",
      "Hill Climb Racing : 100,000,000\n",
      "Helix Jump : 100,000,000\n",
      "Glow Hockey : 100,000,000\n",
      "Geometry Dash Lite : 100,000,000\n",
      "Garena Free Fire : 100,000,000\n",
      "Fruit Ninja® : 100,000,000\n",
      "Flow Free : 100,000,000\n",
      "Extreme Car Driving Simulator : 100,000,000\n",
      "Dream League Soccer 2018 : 100,000,000\n",
      "Dr. Driving : 100,000,000\n",
      "Cut the Rope FULL FREE : 100,000,000\n",
      "Crossy Road : 100,000,000\n",
      "Cooking Fever : 100,000,000\n",
      "Clash of Clans : 100,000,000\n",
      "Clash Royale : 100,000,000\n",
      "Candy Crush Soda Saga : 100,000,000\n",
      "Bus Rush: Subway Edition : 100,000,000\n",
      "Bike Race Free - Top Motorcycle Racing Games : 100,000,000\n",
      "Banana Kong : 100,000,000\n",
      "Asphalt 8: Airborne : 100,000,000\n",
      "Ant Smasher by Best Cool & Fun Games : 100,000,000\n",
      "Angry Birds Star Wars : 100,000,000\n",
      "Angry Birds Rio : 100,000,000\n",
      "Angry Birds Classic : 100,000,000\n",
      "Angry Birds 2 : 100,000,000\n",
      "Agar.io : 100,000,000\n",
      "8 Ball Pool : 100,000,000\n",
      "► MultiCraft ― Free Miner! 👍 : 50,000,000\n",
      "Zynga Poker – Texas Holdem : 50,000,000\n",
      "Words With Friends Classic : 50,000,000\n",
      "Word Search : 50,000,000\n",
      "War Robots : 50,000,000\n",
      "UNO ™ & Friends : 50,000,000\n",
      "Toy Truck Rally 3D : 50,000,000\n",
      "Toy Blast : 50,000,000\n",
      "Swamp Attack : 50,000,000\n",
      "Summoners War : 50,000,000\n",
      "Snake VS Block : 50,000,000\n",
      "Shoot Hunter-Gun Killer : 50,000,000\n",
      "Rolling Sky : 50,000,000\n",
      "Red Ball 4 : 50,000,000\n",
      "Racing in Car 2 : 50,000,000\n",
      "Racing Moto : 50,000,000\n",
      "Pixel Gun 3D: Survival shooter & Battle Royale : 50,000,000\n",
      "Piano Free - Keyboard with Magic Tiles Music Games : 50,000,000\n",
      "Perfect Piano : 50,000,000\n",
      "PUBG MOBILE : 50,000,000\n",
      "Need for Speed™ No Limits : 50,000,000\n",
      "Magic Tiles 3 : 50,000,000\n",
      "MARVEL Contest of Champions : 50,000,000\n",
      "Love Balls : 50,000,000\n",
      "Lords Mobile: Battle of the Empires - Strategy RPG : 50,000,000\n",
      "Lep's World 🍀 : 50,000,000\n",
      "Lep's World 3 🍀🍀🍀 : 50,000,000\n",
      "Kick the Buddy : 50,000,000\n",
      "Hungry Shark World : 50,000,000\n",
      "Granny : 50,000,000\n",
      "Geometry Dash Meltdown : 50,000,000\n",
      "Gardenscapes : 50,000,000\n",
      "Gangstar Vegas - mafia game : 50,000,000\n",
      "GUNSHIP BATTLE: Helicopter 3D : 50,000,000\n",
      "Earn to Die 2 : 50,000,000\n",
      "Draw Something Classic : 50,000,000\n",
      "Dr. Parking 4 : 50,000,000\n",
      "Doodle Jump : 50,000,000\n",
      "DEER HUNTER CLASSIC : 50,000,000\n",
      "DEAD TARGET: FPS Zombie Apocalypse Survival Games : 50,000,000\n",
      "Chess Free : 50,000,000\n"
     ]
    }
   ],
   "source": [
    "print_android_genre('GAME',100)"
   ]
  },
  {
   "cell_type": "code",
   "execution_count": 274,
   "metadata": {},
   "outputs": [
    {
     "name": "stdout",
     "output_type": "stream",
     "text": [
      "Maps - Navigate & Explore : 1,000,000,000\n",
      "Google Street View : 1,000,000,000\n",
      "TripAdvisor Hotels Flights Restaurants Attractions : 100,000,000\n",
      "Google Earth : 100,000,000\n",
      "Booking.com Travel Deals : 100,000,000\n",
      "trivago: Hotels & Travel : 50,000,000\n",
      "VZ Navigator : 50,000,000\n",
      "MAPS.ME – Offline Map and Travel Navigation : 50,000,000\n",
      "2GIS: directory & navigator : 50,000,000\n",
      "easyJet: Travel App : 10,000,000\n",
      "Yelp: Food, Shopping, Services Nearby : 10,000,000\n",
      "Yatra - Flights, Hotels, Bus, Trains & Cabs : 10,000,000\n"
     ]
    }
   ],
   "source": [
    "print_android_genre('TRAVEL_AND_LOCAL')"
   ]
  },
  {
   "cell_type": "code",
   "execution_count": 176,
   "metadata": {},
   "outputs": [
    {
     "name": "stdout",
     "output_type": "stream",
     "text": [
      "Talking Ben the Dog : 100,000,000\n",
      "Talking Angela : 100,000,000\n",
      "Netflix : 100,000,000\n",
      "IMDb Movies & TV : 100,000,000\n",
      "Hotstar : 100,000,000\n",
      "Twitch: Livestream Multiplayer Games & Esports : 50,000,000\n",
      "Talking Ginger 2 : 50,000,000\n",
      "PlayStation App : 50,000,000\n",
      "Amazon Prime Video : 50,000,000\n",
      "ivi - movies and TV shows in HD : 10,000,000\n",
      "WWE : 10,000,000\n",
      "Vudu Movies & TV : 10,000,000\n"
     ]
    }
   ],
   "source": [
    "print_android_genre('ENTERTAINMENT')"
   ]
  },
  {
   "cell_type": "code",
   "execution_count": 276,
   "metadata": {},
   "outputs": [
    {
     "name": "stdout",
     "output_type": "stream",
     "text": [
      "Google : 1,000,000,000\n",
      "Security Master - Antivirus, VPN, AppLock, Booster : 500,000,000\n",
      "SHAREit - Transfer & Share : 500,000,000\n",
      "Google Translate : 500,000,000\n",
      "Gboard - the Google Keyboard : 500,000,000\n",
      "Clean Master- Space Cleaner & Antivirus : 500,000,000\n",
      "Tiny Flashlight + LED : 100,000,000\n",
      "Speedtest by Ookla : 100,000,000\n",
      "Share Music & Transfer Files - Xender : 100,000,000\n",
      "Samsung Smart Switch Mobile : 100,000,000\n",
      "Samsung Calculator : 100,000,000\n",
      "Lookout Security & Antivirus : 100,000,000\n",
      "Google Now Launcher : 100,000,000\n",
      "Google Korean Input : 100,000,000\n",
      "GO Keyboard - Cute Emojis, Themes and GIFs : 100,000,000\n",
      "Device Help : 100,000,000\n",
      "DU Battery Saver - Battery Charger & Battery Life : 100,000,000\n",
      "Calculator : 100,000,000\n",
      "Cache Cleaner-DU Speed Booster (booster & cleaner) : 100,000,000\n",
      "CM Locker - Security Lockscreen : 100,000,000\n",
      "Battery Doctor-Battery Life Saver & Battery Cooler : 100,000,000\n",
      "Avast Mobile Security 2018 - Antivirus & App Lock : 100,000,000\n",
      "Automatic Call Recorder : 100,000,000\n",
      "Applock : 100,000,000\n",
      "AppLock : 100,000,000\n",
      "Anti-virus Dr.Web Light : 100,000,000\n",
      "Account Manager : 100,000,000\n",
      "AVG AntiVirus 2018 for Android Security : 100,000,000\n",
      "360 Security - Free Antivirus, Booster, Cleaner : 100,000,000\n",
      "Video Downloader for Facebook : 50,000,000\n",
      "T-Mobile Visual Voicemail : 50,000,000\n",
      "SuperVPN Free VPN Client : 50,000,000\n",
      "RAR : 50,000,000\n",
      "QR Code Reader : 50,000,000\n",
      "My Telcel : 50,000,000\n",
      "Motorola Assist : 50,000,000\n",
      "Motorola Alert : 50,000,000\n",
      "Master for Minecraft(Pocket Edition)-Mod Launcher : 50,000,000\n",
      "Kaspersky Mobile Antivirus: AppLock & Web Security : 50,000,000\n",
      "Hotspot Shield Free VPN Proxy & Wi-Fi Security : 50,000,000\n",
      "Flashlight HD LED : 50,000,000\n",
      "File Manager : 50,000,000\n",
      "Emoji keyboard - Cute Emoticons, GIF, Stickers : 50,000,000\n",
      "Downloader & Private Browser : 50,000,000\n",
      "DiskDigger photo recovery : 50,000,000\n",
      "Color Flashlight : 50,000,000\n",
      "Clean Master Lite - For Low-End Phone : 50,000,000\n",
      "CM FILE MANAGER : 50,000,000\n",
      "CCleaner : 50,000,000\n",
      "Brightest Flashlight Free ® : 50,000,000\n"
     ]
    }
   ],
   "source": [
    "print_android_genre('TOOLS',50)"
   ]
  },
  {
   "cell_type": "code",
   "execution_count": 198,
   "metadata": {},
   "outputs": [
    {
     "name": "stdout",
     "output_type": "stream",
     "text": [
      "Google News : 1,000,000,000\n",
      "Twitter : 500,000,000\n",
      "Flipboard: News For Our Time : 500,000,000\n",
      "Dailyhunt (Newshunt) - Latest News, Viral Videos : 50,000,000\n",
      "detikcom - Latest & Most Complete News : 10,000,000\n",
      "Updates for Samsung - Android Update Versions : 10,000,000\n",
      "Topbuzz: Breaking News, Videos & Funny GIFs : 10,000,000\n",
      "SmartNews: Breaking News Headlines : 10,000,000\n",
      "Reddit: Social News, Trending Memes & Funny Videos : 10,000,000\n",
      "Read- Latest News, Information, Gossip and Politics : 10,000,000\n",
      "Pulse Nabd - World News, Urgent : 10,000,000\n",
      "Pocket : 10,000,000\n"
     ]
    }
   ],
   "source": [
    "print_android_genre('NEWS_AND_MAGAZINES')"
   ]
  },
  {
   "cell_type": "code",
   "execution_count": 199,
   "metadata": {},
   "outputs": [
    {
     "name": "stdout",
     "output_type": "stream",
     "text": [
      "Google Play Books : 1,000,000,000\n",
      "Wattpad 📖 Free Books : 100,000,000\n",
      "Bible : 100,000,000\n",
      "Audiobooks from Audible : 100,000,000\n",
      "Amazon Kindle : 100,000,000\n",
      "Wikipedia : 10,000,000\n",
      "Spanish English Translator : 10,000,000\n",
      "Quran for Android : 10,000,000\n",
      "Oxford Dictionary of English : Free : 10,000,000\n",
      "NOOK: Read eBooks & Magazines : 10,000,000\n",
      "Moon+ Reader : 10,000,000\n",
      "JW Library : 10,000,000\n",
      "HTC Help : 10,000,000\n",
      "FBReader: Favorite Book Reader : 10,000,000\n",
      "English Hindi Dictionary : 10,000,000\n",
      "English Dictionary - Offline : 10,000,000\n",
      "Dictionary.com: Find Definitions for English Words : 10,000,000\n",
      "Dictionary - Merriam-Webster : 10,000,000\n",
      "Dictionary : 10,000,000\n",
      "Cool Reader : 10,000,000\n"
     ]
    }
   ],
   "source": [
    "print_android_genre('BOOKS_AND_REFERENCE',20)"
   ]
  },
  {
   "cell_type": "code",
   "execution_count": 201,
   "metadata": {},
   "outputs": [
    {
     "name": "stdout",
     "output_type": "stream",
     "text": [
      "ZEDGE™ Ringtones & Wallpapers : 100,000,000\n",
      "Parallel Space - Multiple accounts & Two face : 100,000,000\n",
      "Hola Launcher- Theme,Wallpaper : 100,000,000\n",
      "GO Launcher - 3D parallax Themes & HD Wallpapers : 100,000,000\n",
      "GO Keyboard - Emoticon keyboard, Free Theme, GIF : 100,000,000\n",
      "CM Launcher 3D - Theme, Wallpapers, Efficient : 100,000,000\n",
      "Backgrounds HD (Wallpapers) : 100,000,000\n",
      "APUS Launcher - Theme, Wallpaper, Hide Apps : 100,000,000\n",
      "ZenUI Launcher : 50,000,000\n",
      "Yandex Browser with Protect : 50,000,000\n",
      "Ringtone Maker : 50,000,000\n",
      "Nova Launcher : 50,000,000\n",
      "Koi Free Live Wallpaper : 50,000,000\n",
      "icon wallpaper dressup💞CocoPPa : 10,000,000\n",
      "iKeyboard - emoji, emoticons : 10,000,000\n"
     ]
    }
   ],
   "source": [
    "print_android_genre('PERSONALIZATION',15)"
   ]
  },
  {
   "cell_type": "code",
   "execution_count": 203,
   "metadata": {},
   "outputs": [
    {
     "name": "stdout",
     "output_type": "stream",
     "text": [
      "eBay: Buy & Sell this Summer - Discover Deals Now! : 100,000,000\n",
      "Wish - Shopping Made Fun : 100,000,000\n",
      "Flipkart Online Shopping App : 100,000,000\n",
      "Amazon Shopping : 100,000,000\n",
      "AliExpress - Smarter Shopping, Better Living : 100,000,000\n",
      "letgo: Buy & Sell Used Stuff, Cars & Real Estate : 50,000,000\n",
      "The birth : 50,000,000\n",
      "OLX - Buy and Sell : 50,000,000\n",
      "Myntra Online Shopping App : 50,000,000\n",
      "Mercado Libre: Find your favorite brands : 50,000,000\n",
      "Lazada - Online Shopping & Deals : 50,000,000\n",
      "Groupon - Shop Deals, Discounts & Coupons : 50,000,000\n",
      "eBay Kleinanzeigen for Germany : 10,000,000\n",
      "cPro Marketplace: Buy. Sell. Rent. Date. Jobs. : 10,000,000\n",
      "ZALORA Fashion Shopping : 10,000,000\n"
     ]
    }
   ],
   "source": [
    "print_android_genre('SHOPPING',15)"
   ]
  },
  {
   "cell_type": "code",
   "execution_count": 182,
   "metadata": {},
   "outputs": [
    {
     "name": "stdout",
     "output_type": "stream",
     "text": [
      "Weather & Clock Widget for Android : 50,000,000\n",
      "The Weather Channel: Rain Forecast & Storm Alerts : 50,000,000\n",
      "GO Weather - Widget, Theme, Wallpaper, Efficient : 50,000,000\n",
      "AccuWeather: Daily Forecast & Live Weather Reports : 50,000,000\n",
      "wetter.com - Weather and Radar : 10,000,000\n",
      "Yandex.Weather : 10,000,000\n",
      "Yahoo Weather : 10,000,000\n",
      "Weather –Simple weather forecast : 10,000,000\n",
      "Weather by WeatherBug: Forecast, Radar & Alerts : 10,000,000\n",
      "Weather 14 Days : 10,000,000\n",
      "Weather : 10,000,000\n",
      "MyRadar NOAA Weather Radar : 10,000,000\n"
     ]
    }
   ],
   "source": [
    "print_android_genre('WEATHER')"
   ]
  },
  {
   "cell_type": "code",
   "execution_count": 235,
   "metadata": {},
   "outputs": [
    {
     "name": "stdout",
     "output_type": "stream",
     "text": [
      "Samsung Health : 500,000,000\n",
      "Period Tracker - Period Calendar Ovulation Tracker : 100,000,000\n",
      "Calorie Counter - MyFitnessPal : 50,000,000\n",
      "Workout Trainer: fitness coach : 10,000,000\n",
      "Water Drink Reminder : 10,000,000\n",
      "Strava Training: Track Running, Cycling & Swimming : 10,000,000\n",
      "Step Counter - Pedometer Free & Calorie Counter : 10,000,000\n",
      "Six Pack in 30 Days - Abs Workout : 10,000,000\n",
      "Runtastic Running App & Mile Tracker : 10,000,000\n",
      "Runkeeper - GPS Track Run Walk : 10,000,000\n",
      "Period Tracker Clue: Period and Ovulation Tracker : 10,000,000\n",
      "Period Tracker : 10,000,000\n"
     ]
    }
   ],
   "source": [
    "print_android_genre('HEALTH_AND_FITNESS')"
   ]
  },
  {
   "cell_type": "code",
   "execution_count": 236,
   "metadata": {},
   "outputs": [
    {
     "name": "stdout",
     "output_type": "stream",
     "text": [
      "Waze - GPS, Maps, Traffic Alerts & Live Navigation : 100,000,000\n",
      "Uber : 100,000,000\n",
      "GPS Navigation & Offline Maps Sygic : 50,000,000\n",
      "Free GPS Navigation : 50,000,000\n",
      "Yandex.Transport : 10,000,000\n",
      "Yahoo! transit guide free timetable, operation information, transfer search : 10,000,000\n",
      "TomTom GPS Navigation Traffic : 10,000,000\n",
      "Subway Terminator: Smarter Subway : 10,000,000\n",
      "Moovit: Bus Time & Train Time Live Info : 10,000,000\n",
      "Maps, GPS Navigation & Directions, Street View : 10,000,000\n",
      "MapQuest: Directions, Maps, GPS & Navigation : 10,000,000\n",
      "DB Navigator : 10,000,000\n"
     ]
    }
   ],
   "source": [
    "print_android_genre('MAPS_AND_NAVIGATION')"
   ]
  },
  {
   "cell_type": "code",
   "execution_count": 241,
   "metadata": {},
   "outputs": [
    {
     "name": "stdout",
     "output_type": "stream",
     "text": [
      "Google Play Games : 1,000,000,000\n",
      "Where's My Water? Free : 100,000,000\n",
      "Tom Loves Angela : 100,000,000\n",
      "Talking Tom Cat 2 : 100,000,000\n",
      "Talking Tom Cat : 100,000,000\n",
      "Talking Tom & Ben News : 100,000,000\n",
      "Talking Ginger : 100,000,000\n",
      "ROBLOX : 100,000,000\n",
      "Minion Rush: Despicable Me Official Game : 100,000,000\n",
      "Hay Day : 100,000,000\n",
      "Farm Heroes Saga : 100,000,000\n",
      "Duolingo: Learn Languages Free : 100,000,000\n",
      "Bubble Witch 2 Saga : 100,000,000\n",
      "Bitmoji – Your Personal Emoji : 100,000,000\n",
      "aa : 50,000,000\n",
      "YouTube Kids : 50,000,000\n",
      "Voice changer with effects : 50,000,000\n",
      "Vegas Crime Simulator : 50,000,000\n",
      "Turbo FAST : 50,000,000\n",
      "Township : 50,000,000\n",
      "Tom's Love Letters : 50,000,000\n",
      "Toca Kitchen 2 : 50,000,000\n",
      "Talking Tom Bubble Shooter : 50,000,000\n",
      "SpongeBob Diner Dash : 50,000,000\n",
      "SimCity BuildIt : 50,000,000\n",
      "Photo Warp : 50,000,000\n",
      "Mobile Strike : 50,000,000\n",
      "MY LITTLE PONY: Magic Princess : 50,000,000\n",
      "MARVEL Future Fight : 50,000,000\n",
      "Last Empire - War Z: Strategy : 50,000,000\n",
      "LEGO® Juniors Create & Cruise : 50,000,000\n",
      "Hello Kitty Nail Salon : 50,000,000\n",
      "Hair Salon - Fun Games : 50,000,000\n",
      "Frozen Free Fall : 50,000,000\n",
      "Flight Simulator: Fly Plane 3D : 50,000,000\n",
      "Five Nights at Freddy's 2 Demo : 50,000,000\n",
      "Fart sound pranks : 50,000,000\n",
      "Episode - Choose Your Story : 50,000,000\n",
      "Dumb Ways to Die 2: The Games : 50,000,000\n",
      "Clash of Kings : The King Of Fighters version : 50,000,000\n",
      "Castle Clash: Heroes of the Empire US : 50,000,000\n",
      "Boom Beach : 50,000,000\n",
      "Block! Hexa Puzzle™ : 50,000,000\n",
      "Bad Piggies : 50,000,000\n",
      "Akinator : 50,000,000\n",
      "iFunny :) : 10,000,000\n",
      "busuu: Learn Languages - Spanish, English & More : 10,000,000\n",
      "Zombie Defense : 10,000,000\n",
      "Xray Scanner Prank : 10,000,000\n",
      "Xbox : 10,000,000\n"
     ]
    }
   ],
   "source": [
    "print_android_genre('FAMILY',50)"
   ]
  },
  {
   "cell_type": "code",
   "execution_count": 242,
   "metadata": {},
   "outputs": [
    {
     "name": "stdout",
     "output_type": "stream",
     "text": [
      "FIFA Soccer : 100,000,000\n",
      "3D Bowling : 100,000,000\n",
      "Wrestling Revolution 3D : 50,000,000\n",
      "Top Eleven 2018 - Be a Soccer Manager : 50,000,000\n",
      "NFL : 50,000,000\n",
      "NBA LIVE Mobile Basketball : 50,000,000\n",
      "EA SPORTS UFC® : 50,000,000\n",
      "Cricbuzz - Live Cricket Scores & News : 50,000,000\n",
      "3D Tennis : 50,000,000\n",
      "theScore: Live Sports Scores, News, Stats & Videos : 10,000,000\n",
      "beIN SPORTS TR : 10,000,000\n",
      "WatchESPN : 10,000,000\n"
     ]
    }
   ],
   "source": [
    "print_android_genre('SPORTS')"
   ]
  },
  {
   "cell_type": "code",
   "execution_count": 243,
   "metadata": {},
   "outputs": [
    {
     "name": "stdout",
     "output_type": "stream",
     "text": [
      "Sketch - Draw & Paint : 50,000,000\n",
      "ibis Paint X : 10,000,000\n",
      "Textgram - write on photos : 10,000,000\n",
      "Tattoo Name On My Photo Editor : 10,000,000\n",
      "Canva: Poster, banner, card maker & graphic design : 10,000,000\n",
      "U Launcher Lite – FREE Live Cool Themes, Hide Apps : 5,000,000\n",
      "Floor Plan Creator : 5,000,000\n",
      "FlipaClip - Cartoon animation : 5,000,000\n",
      "Text on Photo - Fonteee : 1,000,000\n",
      "Name Art Photo Editor - Focus n Filters : 1,000,000\n",
      "Infinite Painter : 1,000,000\n",
      "Garden Coloring Book : 1,000,000\n"
     ]
    }
   ],
   "source": [
    "print_android_genre('ART_AND_DESIGN')"
   ]
  },
  {
   "cell_type": "code",
   "execution_count": 244,
   "metadata": {},
   "outputs": [
    {
     "name": "stdout",
     "output_type": "stream",
     "text": [
      "foodpanda - Local Food Delivery : 10,000,000\n",
      "Zomato - Restaurant Finder and Food Delivery App : 10,000,000\n",
      "Uber Eats: Local Food Delivery : 10,000,000\n",
      "Tastely : 10,000,000\n",
      "Starbucks : 10,000,000\n",
      "Pizza Hut : 10,000,000\n",
      "McDonald's - McDonald's Japan : 10,000,000\n",
      "McDonald's : 10,000,000\n",
      "Foursquare City Guide : 10,000,000\n",
      "Domino's Pizza USA : 10,000,000\n",
      "Delivery yogi. : 10,000,000\n",
      "Cookpad - FREE recipe search makes fun cooking · musical making! : 10,000,000\n"
     ]
    }
   ],
   "source": [
    "print_android_genre('FOOD_AND_DRINK')"
   ]
  },
  {
   "cell_type": "code",
   "execution_count": 245,
   "metadata": {},
   "outputs": [
    {
     "name": "stdout",
     "output_type": "stream",
     "text": [
      "Remind: School Communication : 10,000,000\n",
      "Quizlet: Learn Languages & Vocab with Flashcards : 10,000,000\n",
      "Math Tricks : 10,000,000\n",
      "Lumosity: #1 Brain Games & Cognitive Training App : 10,000,000\n",
      "Learn languages, grammar & vocabulary with Memrise : 10,000,000\n",
      "Learn English with Wlingua : 10,000,000\n",
      "Google Classroom : 10,000,000\n",
      "ClassDojo : 10,000,000\n",
      "Rosetta Stone: Learn to Speak & Read New Languages : 5,000,000\n",
      "NeuroNation - Focus and Brain Training : 5,000,000\n",
      "Mermaids : 5,000,000\n",
      "Learn English Words Free : 5,000,000\n"
     ]
    }
   ],
   "source": [
    "print_android_genre('EDUCATION')"
   ]
  },
  {
   "cell_type": "code",
   "execution_count": 246,
   "metadata": {},
   "outputs": [
    {
     "name": "stdout",
     "output_type": "stream",
     "text": [
      "OfficeSuite : Free Office + PDF Editor : 100,000,000\n",
      "File Commander - File Manager/Explorer : 100,000,000\n",
      "Vault-Hide SMS,Pics & Videos,App Lock,Cloud backup : 50,000,000\n",
      "Secure Folder : 50,000,000\n",
      "Indeed Job Search : 50,000,000\n",
      "Facebook Pages Manager : 50,000,000\n",
      "Docs To Go™ Free Office Suite : 50,000,000\n",
      "ZOOM Cloud Meetings : 10,000,000\n",
      "Visual Voicemail by MetroPCS : 10,000,000\n",
      "Uber Driver : 10,000,000\n",
      "Tiny Scanner - PDF Scanner App : 10,000,000\n",
      "Skype for Business for Android : 10,000,000\n"
     ]
    }
   ],
   "source": [
    "print_android_genre('BUSINESS')"
   ]
  },
  {
   "cell_type": "code",
   "execution_count": 247,
   "metadata": {},
   "outputs": [
    {
     "name": "stdout",
     "output_type": "stream",
     "text": [
      "Tinder : 100,000,000\n",
      "Samsung+ : 50,000,000\n",
      "metroZONE : 10,000,000\n",
      "iHoroscope - 2018 Daily Horoscope & Astrology : 10,000,000\n",
      "happn – Local dating app : 10,000,000\n",
      "Zara : 10,000,000\n",
      "Timely Alarm Clock : 10,000,000\n",
      "Talking Babsy Baby: Baby Games : 10,000,000\n",
      "Sleep as Android: Sleep cycle tracker, smart alarm : 10,000,000\n",
      "Rate Guide Bill Letter : 10,000,000\n",
      "OK cashbag [point of pleasure] : 10,000,000\n",
      "Muslim Pro - Prayer Times, Azan, Quran & Qibla : 10,000,000\n"
     ]
    }
   ],
   "source": [
    "print_android_genre('LIFESTYLE')"
   ]
  },
  {
   "cell_type": "code",
   "execution_count": 248,
   "metadata": {},
   "outputs": [
    {
     "name": "stdout",
     "output_type": "stream",
     "text": [
      "Google Pay : 100,000,000\n",
      "PayPal : 50,000,000\n",
      "İşCep : 10,000,000\n",
      "Wells Fargo Mobile : 10,000,000\n",
      "Mobile Bancomer : 10,000,000\n",
      "K PLUS : 10,000,000\n",
      "Itau bank : 10,000,000\n",
      "HDFC Bank MobileBanking : 10,000,000\n",
      "Credit Karma : 10,000,000\n",
      "Chase Mobile : 10,000,000\n",
      "Cash App : 10,000,000\n",
      "Capital One® Mobile : 10,000,000\n"
     ]
    }
   ],
   "source": [
    "print_android_genre('FINANCE')"
   ]
  },
  {
   "cell_type": "code",
   "execution_count": 249,
   "metadata": {},
   "outputs": [
    {
     "name": "stdout",
     "output_type": "stream",
     "text": [
      "tinyCam Monitor FREE : 10,000,000\n",
      "Zillow: Find Houses for Sale & Apartments for Rent : 10,000,000\n",
      "Trulia Real Estate & Rentals : 10,000,000\n",
      "Realtor.com Real Estate: Homes for Sale and Rent : 10,000,000\n",
      "Houzz Interior Design Ideas : 10,000,000\n",
      "Trulia Rent Apartments & Homes : 5,000,000\n",
      "Real Estate sale & rent Trovit : 5,000,000\n",
      "DaBang - Rental Homes in Korea : 5,000,000\n",
      "Alfred Home Security Camera : 5,000,000\n",
      "realestate.com.au - Buy, Rent & Sell Property : 1,000,000\n",
      "Zumper - Apartment Rental Finder : 1,000,000\n",
      "Wall Decorating Ideas : 1,000,000\n"
     ]
    }
   ],
   "source": [
    "print_android_genre('HOUSE_AND_HOME')"
   ]
  },
  {
   "cell_type": "code",
   "execution_count": 250,
   "metadata": {},
   "outputs": [
    {
     "name": "stdout",
     "output_type": "stream",
     "text": [
      "Zoosk Dating App: Meet Singles : 10,000,000\n",
      "OkCupid Dating : 10,000,000\n",
      "Moco - Chat, Meet People : 10,000,000\n",
      "Match™ Dating - Meet Singles : 10,000,000\n",
      "Hot or Not - Find someone right now : 10,000,000\n",
      "Hitwe - meet people and chat : 10,000,000\n",
      "Find Real Love — YouLove Premium Dating : 10,000,000\n",
      "Chat Rooms, Avatars, Date - Galaxy : 10,000,000\n",
      "iPair-Meet, Chat, Dating : 5,000,000\n",
      "eharmony - Online Dating App : 5,000,000\n",
      "Free Dating App & Flirt Chat - Match with Singles : 5,000,000\n",
      "Free Dating & Flirt Chat - Choice of Love : 5,000,000\n"
     ]
    }
   ],
   "source": [
    "print_android_genre('DATING')"
   ]
  },
  {
   "cell_type": "code",
   "execution_count": 251,
   "metadata": {},
   "outputs": [
    {
     "name": "stdout",
     "output_type": "stream",
     "text": [
      "LINE WEBTOON - Free Comics : 10,000,000\n",
      "comico Popular Original Cartoon Updated Everyday Comico : 5,000,000\n",
      "Perfect Viewer : 5,000,000\n",
      "Narrator's Voice : 5,000,000\n",
      "Comics : 5,000,000\n",
      "漫咖 Comics - Manga,Novel and Stories : 1,000,000\n",
      "pixiv comic - everyone's manga app : 1,000,000\n",
      "WebComics : 1,000,000\n",
      "Tapas – Comics, Novels, and Stories : 1,000,000\n",
      "Memes Button : 1,000,000\n",
      "Marvel Unlimited : 1,000,000\n",
      "Manga Zero - Japanese cartoon and comic reader : 1,000,000\n"
     ]
    }
   ],
   "source": [
    "print_android_genre('COMICS')"
   ]
  },
  {
   "cell_type": "code",
   "execution_count": 252,
   "metadata": {},
   "outputs": [
    {
     "name": "stdout",
     "output_type": "stream",
     "text": [
      "AutoScout24 - used car finder : 10,000,000\n",
      "Android Auto - Maps, Media, Messaging & Voice : 10,000,000\n",
      "Used cars for sale - Trovit : 5,000,000\n",
      "Ulysse Speedometer : 5,000,000\n",
      "Fines of the State Traffic Safety Inspectorate are official: inspection, payment of fines : 5,000,000\n",
      "ezETC (ETC balance inquiry, meter trial, real-time traffic) : 1,000,000\n",
      "auto fines : 1,000,000\n",
      "Used car search Goo net whole car Go to net : 1,000,000\n",
      "Used car is the first car - used car purchase, used car quotation, dealer information to : 1,000,000\n",
      "Used Cars and Trucks for Sale : 1,000,000\n",
      "Tickets + PDA 2018 Exam : 1,000,000\n",
      "SKencar : 1,000,000\n"
     ]
    }
   ],
   "source": [
    "print_android_genre('AUTO_AND_VEHICLES')"
   ]
  },
  {
   "cell_type": "code",
   "execution_count": 253,
   "metadata": {},
   "outputs": [
    {
     "name": "stdout",
     "output_type": "stream",
     "text": [
      "MX Player Codec (ARMv7) : 10,000,000\n",
      "Cardboard : 10,000,000\n",
      "Aviary Stickers: Free Pack : 10,000,000\n",
      "Wifi Connect Library : 5,000,000\n",
      "Aviary Effects: Classic : 5,000,000\n",
      "Wifi Test : 1,000,000\n",
      "OpenCV Manager : 1,000,000\n",
      "New Ringtones 2018 : 1,000,000\n",
      "Market Update Helper : 1,000,000\n",
      "ES Chromecast plugin : 1,000,000\n",
      "Cool Popular Ringtones 2018 🔥 : 1,000,000\n",
      "Apk Installer : 1,000,000\n"
     ]
    }
   ],
   "source": [
    "print_android_genre('LIBRARIES_AND_DEMO')"
   ]
  },
  {
   "cell_type": "code",
   "execution_count": 254,
   "metadata": {},
   "outputs": [
    {
     "name": "stdout",
     "output_type": "stream",
     "text": [
      "Pregnancy Tracker & Countdown to Baby Due Date : 10,000,000\n",
      "My baby Piano : 5,000,000\n",
      "Vegetable Fun : 1,000,000\n",
      "Urban Limo Taxi Simulator : 1,000,000\n",
      "Safe365 – Cell Phone GPS Locator For Your Family : 1,000,000\n",
      "My baby firework : 1,000,000\n",
      "My baby Phone : 1,000,000\n",
      "My baby Game (Balloon POP!) : 1,000,000\n",
      "Feed Baby - Baby Tracker : 1,000,000\n",
      "Family Album Mitene: Private Photo & Video Sharing : 1,000,000\n",
      "Dormi - Baby Monitor : 1,000,000\n",
      "Baby Sleep: White noise lullabies for newborns : 1,000,000\n"
     ]
    }
   ],
   "source": [
    "print_android_genre('PARENTING')"
   ]
  },
  {
   "cell_type": "code",
   "execution_count": 255,
   "metadata": {},
   "outputs": [
    {
     "name": "stdout",
     "output_type": "stream",
     "text": [
      "Beauty Camera - Selfie Camera : 10,000,000\n",
      "Best Hairstyles step by step : 5,000,000\n",
      "ipsy: Makeup, Beauty, and Tips : 1,000,000\n",
      "Ulta Beauty : 1,000,000\n",
      "Sephora: Skin Care, Beauty Makeup & Fragrance Shop : 1,000,000\n",
      "Selfie Camera : 1,000,000\n",
      "Rainbow Camera : 1,000,000\n",
      "Mirror Camera (Mirror + Selfie Camera) : 1,000,000\n",
      "Mirror - Zoom & Exposure - : 1,000,000\n",
      "Filters for Selfie : 1,000,000\n",
      "Sticker Camera - Selfie Filters, Beauty Camera : 500,000\n",
      "Hush - Beauty for Everyone : 500,000\n"
     ]
    }
   ],
   "source": [
    "print_android_genre('BEAUTY')"
   ]
  },
  {
   "cell_type": "code",
   "execution_count": 256,
   "metadata": {},
   "outputs": [
    {
     "name": "stdout",
     "output_type": "stream",
     "text": [
      "Ticketmaster Event Tickets : 5,000,000\n",
      "StubHub - Tickets to Sports, Concerts & Events : 5,000,000\n",
      "Vivid Seats – Event Tickets : 1,000,000\n",
      "SeatGeek – Tickets to Sports, Concerts, Broadway : 1,000,000\n",
      "Gametime - Tickets to Sports, Concerts, Theater : 1,000,000\n",
      "Fever : 1,000,000\n",
      "Reminder : 500,000\n",
      "vide-greniers.org : 100,000\n",
      "my4D : 100,000\n",
      "Xceed - Clubs, DJs, Festivals & Tickets : 100,000\n",
      "Quake & Volcanoes: 3D Globe of Volcanic Eruptions : 100,000\n",
      "Picktrainer: India's largest photo contest app : 100,000\n"
     ]
    }
   ],
   "source": [
    "print_android_genre('EVENTS')"
   ]
  },
  {
   "cell_type": "code",
   "execution_count": 257,
   "metadata": {},
   "outputs": [
    {
     "name": "stdout",
     "output_type": "stream",
     "text": [
      "My Calendar - Period Tracker : 5,000,000\n",
      "Blood Pressure : 5,000,000\n",
      "mySugr: the blood sugar tracker made just for you : 1,000,000\n",
      "Pregnancy Week By Week : 1,000,000\n",
      "Pregnancy Calculator and Tracker app : 1,000,000\n",
      "Ovia Pregnancy Tracker & Baby Countdown Calendar : 1,000,000\n",
      "Ovia Fertility Tracker & Ovulation Calculator : 1,000,000\n",
      "MyChart : 1,000,000\n",
      "GoodRx Drug Prices and Coupons : 1,000,000\n",
      "FollowMyHealth® : 1,000,000\n",
      "Epocrates Plus : 1,000,000\n",
      "Drugs.com Medication Guide : 1,000,000\n"
     ]
    }
   ],
   "source": [
    "print_android_genre('MEDICAL')"
   ]
  }
 ],
 "metadata": {
  "kernelspec": {
   "display_name": "Python 3",
   "language": "python",
   "name": "python3"
  },
  "language_info": {
   "codemirror_mode": {
    "name": "ipython",
    "version": 3
   },
   "file_extension": ".py",
   "mimetype": "text/x-python",
   "name": "python",
   "nbconvert_exporter": "python",
   "pygments_lexer": "ipython3",
   "version": "3.8.5"
  }
 },
 "nbformat": 4,
 "nbformat_minor": 4
}
